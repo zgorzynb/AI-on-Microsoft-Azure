{
 "cells": [
  {
   "cell_type": "markdown",
   "metadata": {},
   "source": [
    "# Predykcja przetrwania dla pacjentów z niewydolnością serca\n",
    "***"
   ]
  },
  {
   "cell_type": "markdown",
   "metadata": {},
   "source": [
    "### Scenariusz\n",
    "***\n",
    "Jeden ze szpitali przygotował zestaw danych dotyczący pacjentów z niewydolnością serca. Na podstawie przykładów blisko 300 osób należy stworzyć model, który powinien prawidłowo przewidzieć, czy dany pacjent przeżyje. W tym celu zdecydowano się wykorzystać Azure Machine Learning w celu automaycznego doboru optymalnego rozwiązania. Poniższy notatnik ma za zadanie przejścia przez tok myślenia twórcy i w jawny sposób ukazanie prostotę wykorzystania narzędzia."
   ]
  },
  {
   "cell_type": "markdown",
   "metadata": {},
   "source": [
    "### Dane\n",
    "***\n",
    "Dane wykorzystane podczas przygotowywania projektu są dostępne [tutaj](https://www.kaggle.com/andrewmvd/heart-failure-clinical-data).\n",
    "\n",
    "Dane zawierają 13 kolumn:\n",
    "> 1. age - zawiera informacje o wieku pacjenta\n",
    "> 2. anaemia - określa, czy pacjent posiadał anemię czyli zmniejszoną liczbę czerwonych krwinek lub hemoglobiny\n",
    "> 3. creatinine_phosphokinase - poziom enzymu CPK we krwi (mcg/L)\n",
    "> 4. diabetes - określa, czy pacjent miał cukrzycę\n",
    "> 5. ejection_fraction - procent krwi opuszczającej serce przy każdym skurczu\n",
    "> 6. high_blood_pressure - określa, czy pacjent miał nadciśnienie\n",
    "> 7. platelets - określa liczbę płytek krwi (kiloplatelets/mL)\n",
    "> 8. serum_creatinine - określa poziom kreatyniny we krwi (mg/dL)\n",
    "> 9. serum_sodium - określa poziom sodu we krwi (mEq/L)\n",
    "> 10. sex - określa płeć pacjenta\n",
    "> 11. smoking - wskazuje, czy pacjent jest palaczem\n",
    "> 12. time - czas obserwacji\n",
    "> 13. DEATH_EVENT - wskazuje, czy pacjent zmarł w trakcie obserwacji\n"
   ]
  },
  {
   "cell_type": "markdown",
   "metadata": {},
   "source": [
    "### Odtworzenie rozwiązania\n",
    "***\n",
    "1. Stworzenie zasobu Machine Learning\n",
    "2. Przejście do Machine Learning Studio\n",
    "3. Załadowanie danych w zakładce Datasets\n",
    "4. Dodanie pliku ipynb w zakładce Notebooks\n",
    "5. Przejście do wczytanego Notebooka\n",
    "6. Stworzenie nowej wirtualnej masazyny odpowiedzialnej za obliczenia (w pierwotnym przypadku - 2 cores, 4 GB RAM, 14 GB)\n",
    "7. Uruchomienie całego skryptu\n",
    "8. Ewentualna publikacja modelu i predykcje nowych danych"
   ]
  },
  {
   "cell_type": "markdown",
   "metadata": {},
   "source": [
    "### Import wymaganych bibliotek"
   ]
  },
  {
   "cell_type": "code",
   "execution_count": 1,
   "metadata": {},
   "outputs": [],
   "source": [
    "import pandas as pd\n",
    "import numpy as np\n",
    "\n",
    "from azureml.core import Workspace, Dataset, Experiment\n",
    "from azureml.widgets import RunDetails\n",
    "from azureml.train import automl\n",
    "\n",
    "from sklearn.model_selection import train_test_split\n",
    "from sklearn.metrics import accuracy_score, confusion_matrix"
   ]
  },
  {
   "cell_type": "markdown",
   "metadata": {},
   "source": [
    "### Wczytanie przestrzeni roboczej z serwera\n",
    "***\n",
    "Niekiedy wymagana będzie autentykacja. W tym celu należy postępować zgodnie z wypisywanymi poleceniami."
   ]
  },
  {
   "cell_type": "code",
   "execution_count": 2,
   "metadata": {},
   "outputs": [],
   "source": [
    "ws = Workspace.from_config()"
   ]
  },
  {
   "cell_type": "markdown",
   "metadata": {},
   "source": [
    "### Załadowanie do pamięci zbioru danych\n",
    "***\n",
    "Jest to zbiór danych dodany wcześniej w zakładce Datasets. Jego wyszukiwanie przeprowadzane jest po jego nazwie. Następnym krokiem jest przekształcenie danych do formy DataFrame z biblioteki Pandas. Dodatkowo usuwane są wiersze, w których nie mamy wszystkch informacji."
   ]
  },
  {
   "cell_type": "code",
   "execution_count": 3,
   "metadata": {},
   "outputs": [],
   "source": [
    "dataset = Dataset.get_by_name(workspace=ws, name=\"HeartFailure\")\n",
    "df = dataset.to_pandas_dataframe().dropna()"
   ]
  },
  {
   "cell_type": "markdown",
   "metadata": {},
   "source": [
    "### Wypisanie podstawowych informacji dotyczących zbioru\n",
    "***\n",
    "Na podstawie poniższej tabeli można wnioskować, że wszystkie cechy mogą zostać wykorzystane podczas treningu, ponieważ mają wysokie odchylenia standardowe w porównaniu ze średnią. Nie widzę zatem podstawy do ręcznego usuwania cech."
   ]
  },
  {
   "cell_type": "code",
   "execution_count": 4,
   "metadata": {},
   "outputs": [
    {
     "data": {
      "text/html": [
       "<div>\n",
       "<style scoped>\n",
       "    .dataframe tbody tr th:only-of-type {\n",
       "        vertical-align: middle;\n",
       "    }\n",
       "\n",
       "    .dataframe tbody tr th {\n",
       "        vertical-align: top;\n",
       "    }\n",
       "\n",
       "    .dataframe thead th {\n",
       "        text-align: right;\n",
       "    }\n",
       "</style>\n",
       "<table border=\"1\" class=\"dataframe\">\n",
       "  <thead>\n",
       "    <tr style=\"text-align: right;\">\n",
       "      <th></th>\n",
       "      <th>age</th>\n",
       "      <th>anaemia</th>\n",
       "      <th>creatinine_phosphokinase</th>\n",
       "      <th>diabetes</th>\n",
       "      <th>ejection_fraction</th>\n",
       "      <th>high_blood_pressure</th>\n",
       "      <th>platelets</th>\n",
       "      <th>serum_creatinine</th>\n",
       "      <th>serum_sodium</th>\n",
       "      <th>sex</th>\n",
       "      <th>smoking</th>\n",
       "      <th>time</th>\n",
       "      <th>DEATH_EVENT</th>\n",
       "    </tr>\n",
       "  </thead>\n",
       "  <tbody>\n",
       "    <tr>\n",
       "      <th>count</th>\n",
       "      <td>297.000000</td>\n",
       "      <td>297.000000</td>\n",
       "      <td>297.000000</td>\n",
       "      <td>297.000000</td>\n",
       "      <td>297.000000</td>\n",
       "      <td>297.000000</td>\n",
       "      <td>297.000000</td>\n",
       "      <td>297.000000</td>\n",
       "      <td>297.000000</td>\n",
       "      <td>297.000000</td>\n",
       "      <td>297.000000</td>\n",
       "      <td>297.000000</td>\n",
       "      <td>297.000000</td>\n",
       "    </tr>\n",
       "    <tr>\n",
       "      <th>mean</th>\n",
       "      <td>60.835017</td>\n",
       "      <td>0.427609</td>\n",
       "      <td>584.898990</td>\n",
       "      <td>0.414141</td>\n",
       "      <td>38.104377</td>\n",
       "      <td>0.350168</td>\n",
       "      <td>263144.952020</td>\n",
       "      <td>1.394848</td>\n",
       "      <td>136.629630</td>\n",
       "      <td>0.649832</td>\n",
       "      <td>0.323232</td>\n",
       "      <td>129.983165</td>\n",
       "      <td>0.319865</td>\n",
       "    </tr>\n",
       "    <tr>\n",
       "      <th>std</th>\n",
       "      <td>11.934919</td>\n",
       "      <td>0.495567</td>\n",
       "      <td>972.837034</td>\n",
       "      <td>0.493404</td>\n",
       "      <td>11.864916</td>\n",
       "      <td>0.477828</td>\n",
       "      <td>97794.623711</td>\n",
       "      <td>1.037728</td>\n",
       "      <td>4.427059</td>\n",
       "      <td>0.477828</td>\n",
       "      <td>0.468500</td>\n",
       "      <td>77.801656</td>\n",
       "      <td>0.467211</td>\n",
       "    </tr>\n",
       "    <tr>\n",
       "      <th>min</th>\n",
       "      <td>40.000000</td>\n",
       "      <td>0.000000</td>\n",
       "      <td>23.000000</td>\n",
       "      <td>0.000000</td>\n",
       "      <td>14.000000</td>\n",
       "      <td>0.000000</td>\n",
       "      <td>25100.000000</td>\n",
       "      <td>0.500000</td>\n",
       "      <td>113.000000</td>\n",
       "      <td>0.000000</td>\n",
       "      <td>0.000000</td>\n",
       "      <td>4.000000</td>\n",
       "      <td>0.000000</td>\n",
       "    </tr>\n",
       "    <tr>\n",
       "      <th>25%</th>\n",
       "      <td>51.000000</td>\n",
       "      <td>0.000000</td>\n",
       "      <td>118.000000</td>\n",
       "      <td>0.000000</td>\n",
       "      <td>30.000000</td>\n",
       "      <td>0.000000</td>\n",
       "      <td>213000.000000</td>\n",
       "      <td>0.900000</td>\n",
       "      <td>134.000000</td>\n",
       "      <td>0.000000</td>\n",
       "      <td>0.000000</td>\n",
       "      <td>73.000000</td>\n",
       "      <td>0.000000</td>\n",
       "    </tr>\n",
       "    <tr>\n",
       "      <th>50%</th>\n",
       "      <td>60.000000</td>\n",
       "      <td>0.000000</td>\n",
       "      <td>250.000000</td>\n",
       "      <td>0.000000</td>\n",
       "      <td>38.000000</td>\n",
       "      <td>0.000000</td>\n",
       "      <td>262000.000000</td>\n",
       "      <td>1.100000</td>\n",
       "      <td>137.000000</td>\n",
       "      <td>1.000000</td>\n",
       "      <td>0.000000</td>\n",
       "      <td>113.000000</td>\n",
       "      <td>0.000000</td>\n",
       "    </tr>\n",
       "    <tr>\n",
       "      <th>75%</th>\n",
       "      <td>70.000000</td>\n",
       "      <td>1.000000</td>\n",
       "      <td>582.000000</td>\n",
       "      <td>1.000000</td>\n",
       "      <td>45.000000</td>\n",
       "      <td>1.000000</td>\n",
       "      <td>303000.000000</td>\n",
       "      <td>1.400000</td>\n",
       "      <td>140.000000</td>\n",
       "      <td>1.000000</td>\n",
       "      <td>1.000000</td>\n",
       "      <td>205.000000</td>\n",
       "      <td>1.000000</td>\n",
       "    </tr>\n",
       "    <tr>\n",
       "      <th>max</th>\n",
       "      <td>95.000000</td>\n",
       "      <td>1.000000</td>\n",
       "      <td>7861.000000</td>\n",
       "      <td>1.000000</td>\n",
       "      <td>80.000000</td>\n",
       "      <td>1.000000</td>\n",
       "      <td>850000.000000</td>\n",
       "      <td>9.400000</td>\n",
       "      <td>148.000000</td>\n",
       "      <td>1.000000</td>\n",
       "      <td>1.000000</td>\n",
       "      <td>285.000000</td>\n",
       "      <td>1.000000</td>\n",
       "    </tr>\n",
       "  </tbody>\n",
       "</table>\n",
       "</div>"
      ],
      "text/plain": [
       "              age     anaemia  creatinine_phosphokinase    diabetes  \\\n",
       "count  297.000000  297.000000                297.000000  297.000000   \n",
       "mean    60.835017    0.427609                584.898990    0.414141   \n",
       "std     11.934919    0.495567                972.837034    0.493404   \n",
       "min     40.000000    0.000000                 23.000000    0.000000   \n",
       "25%     51.000000    0.000000                118.000000    0.000000   \n",
       "50%     60.000000    0.000000                250.000000    0.000000   \n",
       "75%     70.000000    1.000000                582.000000    1.000000   \n",
       "max     95.000000    1.000000               7861.000000    1.000000   \n",
       "\n",
       "       ejection_fraction  high_blood_pressure      platelets  \\\n",
       "count         297.000000           297.000000     297.000000   \n",
       "mean           38.104377             0.350168  263144.952020   \n",
       "std            11.864916             0.477828   97794.623711   \n",
       "min            14.000000             0.000000   25100.000000   \n",
       "25%            30.000000             0.000000  213000.000000   \n",
       "50%            38.000000             0.000000  262000.000000   \n",
       "75%            45.000000             1.000000  303000.000000   \n",
       "max            80.000000             1.000000  850000.000000   \n",
       "\n",
       "       serum_creatinine  serum_sodium         sex     smoking        time  \\\n",
       "count        297.000000    297.000000  297.000000  297.000000  297.000000   \n",
       "mean           1.394848    136.629630    0.649832    0.323232  129.983165   \n",
       "std            1.037728      4.427059    0.477828    0.468500   77.801656   \n",
       "min            0.500000    113.000000    0.000000    0.000000    4.000000   \n",
       "25%            0.900000    134.000000    0.000000    0.000000   73.000000   \n",
       "50%            1.100000    137.000000    1.000000    0.000000  113.000000   \n",
       "75%            1.400000    140.000000    1.000000    1.000000  205.000000   \n",
       "max            9.400000    148.000000    1.000000    1.000000  285.000000   \n",
       "\n",
       "       DEATH_EVENT  \n",
       "count   297.000000  \n",
       "mean      0.319865  \n",
       "std       0.467211  \n",
       "min       0.000000  \n",
       "25%       0.000000  \n",
       "50%       0.000000  \n",
       "75%       1.000000  \n",
       "max       1.000000  "
      ]
     },
     "execution_count": 4,
     "metadata": {},
     "output_type": "execute_result"
    }
   ],
   "source": [
    "df.describe()"
   ]
  },
  {
   "cell_type": "markdown",
   "metadata": {},
   "source": [
    "### Podział danych na zbiór treningowy oraz testowy\n",
    "***\n",
    "Zbiór treningowy zawierać będzie 80% wszystkich danych, a pozostałe dane trafią do zbioru testowego. Dodatkowo dodano parametr random_state, który pozwala na wykonywanie podziału w ten sam sposób za każdym razem. Parametr ten nie jest wymagany."
   ]
  },
  {
   "cell_type": "code",
   "execution_count": 5,
   "metadata": {},
   "outputs": [],
   "source": [
    "X_train, X_test = train_test_split(df, test_size=0.2, random_state=200)"
   ]
  },
  {
   "cell_type": "markdown",
   "metadata": {},
   "source": [
    "### Wypisanie możliwych metryk oceny jakości klasyfikacji\n",
    "***\n",
    "Poniżej wypisano listę możliwych metryk do oceny jakości klasyfikacji. W naszej aplikacji wykrozystamy metrykę accuracy, która określona jest jako stosunek liczby prawidłowych klasyfikacji do liczby wszystkich klasyfikacji."
   ]
  },
  {
   "cell_type": "code",
   "execution_count": 6,
   "metadata": {},
   "outputs": [
    {
     "data": {
      "text/plain": [
       "['AUC_weighted',\n",
       " 'accuracy',\n",
       " 'norm_macro_recall',\n",
       " 'average_precision_score_weighted',\n",
       " 'precision_score_weighted']"
      ]
     },
     "execution_count": 6,
     "metadata": {},
     "output_type": "execute_result"
    }
   ],
   "source": [
    "automl.utilities.get_primary_metrics('classification')"
   ]
  },
  {
   "cell_type": "markdown",
   "metadata": {},
   "source": [
    "### Przygotowanie wstępnych ustawień eksperymentu\n",
    "***\n",
    "Ustawiamy kolejno:\n",
    "- Maksymalna liczba minut, jaką może być trenowany jeden model\n",
    "- Włączamy możliwość wcześniejszego przerwania treningu, jeśli nie przynosi on poprawy modelu\n",
    "- Dajemy możliwość wstęnego przetwarzania danych automatycznie\n",
    "- Ustalamy liczbę Foldów w walidacji krzyżowej na 5"
   ]
  },
  {
   "cell_type": "code",
   "execution_count": 17,
   "metadata": {},
   "outputs": [],
   "source": [
    "automl_settings = {\n",
    "    \"iteration_timeout_minutes\" : 2,\n",
    "    \"enable_early_stopping\" : True,\n",
    "    \"featurization\" : 'auto',\n",
    "    \"n_cross_validations\" : 5\n",
    "}"
   ]
  },
  {
   "cell_type": "markdown",
   "metadata": {},
   "source": [
    "### Przygotowanie ustawień eksperymentu c.d.\n",
    "***\n",
    "Ustawiamy kolejno:\n",
    "- wykonywane zadanie jako klasyfikacja\n",
    "- plik do zapisywania logów\n",
    "- dane treningowe\n",
    "- kolumnę, która podlega klasyfikacji\n",
    "- wcześniej zdefiniowane ustawienia"
   ]
  },
  {
   "cell_type": "code",
   "execution_count": 8,
   "metadata": {},
   "outputs": [],
   "source": [
    "automl_config = automl.AutoMLConfig(task=\"classification\",\n",
    "                            debug_log=\"automl_errors.log\",\n",
    "                            training_data=X_train,\n",
    "                            label_column_name=\"DEATH_EVENT\",\n",
    "                            **automl_settings\n",
    "                            )"
   ]
  },
  {
   "cell_type": "markdown",
   "metadata": {},
   "source": [
    "### Tworzenie nowego eksperymentu o zadanej nazwie"
   ]
  },
  {
   "cell_type": "code",
   "execution_count": 9,
   "metadata": {},
   "outputs": [],
   "source": [
    "experiment = Experiment(ws, \"HeartFailureExperiment\")"
   ]
  },
  {
   "cell_type": "markdown",
   "metadata": {},
   "source": [
    "### Uruchomienie eksperymentu"
   ]
  },
  {
   "cell_type": "code",
   "execution_count": 10,
   "metadata": {},
   "outputs": [
    {
     "name": "stdout",
     "output_type": "stream",
     "text": [
      "No run_configuration provided, running on local with default configuration\n",
      "Running on local machine\n",
      "Parent Run ID: AutoML_b380ebbc-566a-4f05-a475-fce2f40b8161\n",
      "\n",
      "Current status: DatasetEvaluation. Gathering dataset statistics.\n",
      "Current status: FeaturesGeneration. Generating features for the dataset.\n",
      "Current status: DatasetFeaturization. Beginning to fit featurizers and featurize the dataset.\n",
      "Current status: DatasetFeaturizationCompleted. Completed fit featurizers and featurizing the dataset.\n",
      "Current status: DatasetCrossValidationSplit. Generating individually featurized CV splits.\n",
      "\n",
      "****************************************************************************************************\n",
      "DATA GUARDRAILS: \n",
      "\n",
      "TYPE:         Class balancing detection\n",
      "STATUS:       PASSED\n",
      "DESCRIPTION:  Your inputs were analyzed, and all classes are balanced in your training data.\n",
      "              Learn more about imbalanced data: https://aka.ms/AutomatedMLImbalancedData\n",
      "\n",
      "****************************************************************************************************\n",
      "\n",
      "TYPE:         Missing feature values imputation\n",
      "STATUS:       PASSED\n",
      "DESCRIPTION:  No feature missing values were detected in the training data.\n",
      "              Learn more about missing value imputation: https://aka.ms/AutomatedMLFeaturization\n",
      "\n",
      "****************************************************************************************************\n",
      "\n",
      "TYPE:         High cardinality feature detection\n",
      "STATUS:       PASSED\n",
      "DESCRIPTION:  Your inputs were analyzed, and no high cardinality features were detected.\n",
      "              Learn more about high cardinality feature handling: https://aka.ms/AutomatedMLFeaturization\n",
      "\n",
      "****************************************************************************************************\n",
      "Current status: ModelSelection. Beginning model selection.\n",
      "\n",
      "****************************************************************************************************\n",
      "ITERATION: The iteration being evaluated.\n",
      "PIPELINE: A summary description of the pipeline being evaluated.\n",
      "DURATION: Time taken for the current iteration.\n",
      "METRIC: The result of computing score on the fitted pipeline.\n",
      "BEST: The best observed score thus far.\n",
      "****************************************************************************************************\n",
      "\n",
      " ITERATION   PIPELINE                                       DURATION      METRIC      BEST\n",
      "         0   MaxAbsScaler LightGBM                          0:00:26       0.8059    0.8059\n",
      "         1   MaxAbsScaler XGBoostClassifier                 0:00:27       0.8270    0.8270\n",
      "         2   MinMaxScaler RandomForest                      0:00:28       0.8228    0.8270\n",
      "         3   MinMaxScaler RandomForest                      0:00:28       0.8271    0.8271\n",
      "         4   MinMaxScaler RandomForest                      0:00:28       0.8312    0.8312\n",
      "         5   MinMaxScaler SVM                               0:00:29       0.7349    0.8312\n",
      "         6   MaxAbsScaler GradientBoosting                  0:00:29       0.8438    0.8438\n",
      "         7   StandardScalerWrapper RandomForest             0:00:27       0.8270    0.8438\n",
      "         8   SparseNormalizer XGBoostClassifier             0:00:25       0.8059    0.8438\n",
      "         9   SparseNormalizer LightGBM                      0:00:27       0.8017    0.8438\n",
      "        10   RobustScaler RandomForest                      0:00:25       0.8608    0.8608\n",
      "        11   MaxAbsScaler LightGBM                          0:00:25       0.8441    0.8608\n",
      "        12   RobustScaler ExtremeRandomTrees                0:00:28       0.8312    0.8608\n",
      "        13   SparseNormalizer XGBoostClassifier             0:00:49       0.7887    0.8608\n",
      "        14   StandardScalerWrapper LightGBM                 0:00:26       0.8020    0.8608\n",
      "        15   StandardScalerWrapper XGBoostClassifier        0:00:29       0.8143    0.8608\n",
      "        16   StandardScalerWrapper XGBoostClassifier        0:00:27       0.8481    0.8608\n",
      "        17   StandardScalerWrapper RandomForest             0:00:30       0.8480    0.8608\n",
      "        18   MinMaxScaler RandomForest                      0:00:27       0.8395    0.8608\n",
      "        19   MinMaxScaler LightGBM                          0:00:35       0.8312    0.8608\n",
      "        20   StandardScalerWrapper KNN                      0:00:36       0.5826    0.8608\n",
      "        21   StandardScalerWrapper RandomForest             0:00:27       0.8521    0.8608\n",
      "        22   StandardScalerWrapper XGBoostClassifier        0:00:26       0.8230    0.8608\n",
      "        23   MaxAbsScaler LightGBM                          0:00:32       0.7934    0.8608\n",
      "        24   SparseNormalizer XGBoostClassifier             0:00:33       0.7888    0.8608\n",
      "        25   SparseNormalizer RandomForest                  0:00:33       0.7889    0.8608\n",
      "        26   RobustScaler GradientBoosting                  0:00:33       0.8691    0.8691\n",
      "        27   StandardScalerWrapper LightGBM                 0:00:30       0.7935    0.8691\n",
      "        28   SparseNormalizer XGBoostClassifier             0:00:27       0.7934    0.8691\n",
      "        29   StandardScalerWrapper ExtremeRandomTrees       0:00:30       0.8147    0.8691\n",
      "        30   MaxAbsScaler GradientBoosting                  0:00:34       0.6712    0.8691\n",
      "        31   MinMaxScaler LightGBM                          0:00:30       0.8230    0.8691\n",
      "        32   SparseNormalizer XGBoostClassifier             0:00:32       0.8018    0.8691\n",
      "        33   RobustScaler LightGBM                          0:00:27       0.8566    0.8691\n",
      "        34   SparseNormalizer LightGBM                      0:00:29       0.8354    0.8691\n",
      "        35   RobustScaler GradientBoosting                  0:00:29       0.7216    0.8691\n",
      "        36   MinMaxScaler RandomForest                      0:00:29       0.8691    0.8691\n",
      "        37   VotingEnsemble                                 0:00:53       0.8776    0.8776\n",
      "        38   StackEnsemble                                  0:01:01       0.8691    0.8776\n",
      "Stopping criteria reached at iteration 39. Ending experiment.\n",
      "****************************************************************************************************\n",
      "Current status: BestRunExplainModel. Best run model explanations started\n",
      "Current status: ModelExplanationDataSetSetup. Model explanations data setup completed\n",
      "Current status: PickSurrogateModel. Choosing LightGBM as the surrogate model for explanations\n",
      "Current status: EngineeredFeatureExplanations. Computation of engineered features started\n",
      "Current status: EngineeredFeatureExplanations. Computation of engineered features completed\n",
      "Current status: RawFeaturesExplanations. Computation of raw features started\n",
      "Current status: RawFeaturesExplanations. Computation of raw features completed\n",
      "Current status: BestRunExplainModel. Best run model explanations completed\n",
      "****************************************************************************************************\n"
     ]
    }
   ],
   "source": [
    "run = experiment.submit(automl_config, show_output=True)"
   ]
  },
  {
   "cell_type": "markdown",
   "metadata": {},
   "source": [
    "### Wypisanie informacji o przeprowadzonym eksperymencie\n",
    "***\n",
    "Wnioski:\n",
    "1. Przeprowadzone zostało 38 treningów różnych modeli\n",
    "2. Całość treningu zajęła trochę czasu, jednak nie było to zbyt długo\n",
    "3. Najwyższą dokładność osiągnął model VotingEnsemble (87.8%)\n",
    "4. Najniższa dokładość została osiągnięta przez model StandardScalerWrapper, KNN (58,3%)\n",
    "5. Podgląd wyników eksperymentu w ML Studio pozwala na wyciągnięcie jeszcze większej dawki informacji z przeprowadzonego eksperymentu."
   ]
  },
  {
   "cell_type": "code",
   "execution_count": 11,
   "metadata": {},
   "outputs": [
    {
     "data": {
      "application/vnd.jupyter.widget-view+json": {
       "model_id": "4dddf6290fee40b080162c35256b2b7f",
       "version_major": 2,
       "version_minor": 0
      },
      "text/plain": [
       "_AutoMLWidget(widget_settings={'childWidgetDisplay': 'popup', 'send_telemetry': False, 'log_level': 'INFO', 's…"
      ]
     },
     "metadata": {},
     "output_type": "display_data"
    },
    {
     "data": {
      "application/aml.mini.widget.v1": "{\"status\": \"Completed\", \"workbench_run_details_uri\": \"https://ml.azure.com/experiments/HeartFailureExperiment/runs/AutoML_b380ebbc-566a-4f05-a475-fce2f40b8161?wsid=/subscriptions/e6a56e37-6bbe-428b-9321-8ec0e8a77b6b/resourcegroups/automl/workspaces/heartfailureprediction\", \"run_id\": \"AutoML_b380ebbc-566a-4f05-a475-fce2f40b8161\", \"run_properties\": {\"run_id\": \"AutoML_b380ebbc-566a-4f05-a475-fce2f40b8161\", \"created_utc\": \"2021-01-26T13:53:57.254871Z\", \"properties\": {\"num_iterations\": \"1000\", \"training_type\": \"TrainFull\", \"acquisition_function\": \"EI\", \"primary_metric\": \"accuracy\", \"train_split\": \"0\", \"acquisition_parameter\": \"0\", \"num_cross_validation\": \"5\", \"target\": \"local\", \"AMLSettingsJsonString\": \"{\\\"path\\\":null,\\\"name\\\":\\\"HeartFailureExperiment\\\",\\\"subscription_id\\\":\\\"e6a56e37-6bbe-428b-9321-8ec0e8a77b6b\\\",\\\"resource_group\\\":\\\"automl\\\",\\\"workspace_name\\\":\\\"heartfailureprediction\\\",\\\"region\\\":\\\"westeurope\\\",\\\"compute_target\\\":\\\"local\\\",\\\"spark_service\\\":null,\\\"azure_service\\\":\\\"Microsoft.AzureNotebookVM\\\",\\\"many_models\\\":false,\\\"pipeline_fetch_max_batch_size\\\":1,\\\"iterations\\\":1000,\\\"primary_metric\\\":\\\"accuracy\\\",\\\"task_type\\\":\\\"classification\\\",\\\"data_script\\\":null,\\\"validation_size\\\":0.0,\\\"n_cross_validations\\\":5,\\\"y_min\\\":null,\\\"y_max\\\":null,\\\"num_classes\\\":2,\\\"featurization\\\":\\\"auto\\\",\\\"_ignore_package_version_incompatibilities\\\":false,\\\"is_timeseries\\\":false,\\\"max_cores_per_iteration\\\":1,\\\"max_concurrent_iterations\\\":1,\\\"iteration_timeout_minutes\\\":2,\\\"mem_in_mb\\\":null,\\\"enforce_time_on_windows\\\":false,\\\"experiment_timeout_minutes\\\":8640,\\\"experiment_exit_score\\\":null,\\\"whitelist_models\\\":null,\\\"blacklist_algos\\\":[\\\"TensorFlowLinearClassifier\\\",\\\"TensorFlowDNN\\\"],\\\"supported_models\\\":[\\\"XGBoostClassifier\\\",\\\"LinearSVM\\\",\\\"TensorFlowDNN\\\",\\\"GradientBoosting\\\",\\\"AveragedPerceptronClassifier\\\",\\\"ExtremeRandomTrees\\\",\\\"LightGBM\\\",\\\"LogisticRegression\\\",\\\"MultinomialNaiveBayes\\\",\\\"SVM\\\",\\\"DecisionTree\\\",\\\"BernoulliNaiveBayes\\\",\\\"SGD\\\",\\\"TensorFlowLinearClassifier\\\",\\\"KNN\\\",\\\"RandomForest\\\"],\\\"auto_blacklist\\\":true,\\\"blacklist_samples_reached\\\":false,\\\"exclude_nan_labels\\\":true,\\\"verbosity\\\":20,\\\"_debug_log\\\":\\\"automl_errors.log\\\",\\\"show_warnings\\\":false,\\\"model_explainability\\\":true,\\\"service_url\\\":null,\\\"sdk_url\\\":null,\\\"sdk_packages\\\":null,\\\"enable_onnx_compatible_models\\\":false,\\\"enable_split_onnx_featurizer_estimator_models\\\":false,\\\"vm_type\\\":null,\\\"telemetry_verbosity\\\":20,\\\"send_telemetry\\\":true,\\\"enable_dnn\\\":false,\\\"scenario\\\":\\\"SDK-1.13.0\\\",\\\"environment_label\\\":null,\\\"force_text_dnn\\\":false,\\\"enable_feature_sweeping\\\":true,\\\"enable_early_stopping\\\":true,\\\"early_stopping_n_iters\\\":10,\\\"metrics\\\":null,\\\"enable_ensembling\\\":true,\\\"enable_stack_ensembling\\\":true,\\\"ensemble_iterations\\\":15,\\\"enable_tf\\\":false,\\\"enable_subsampling\\\":null,\\\"subsample_seed\\\":null,\\\"enable_nimbusml\\\":false,\\\"enable_streaming\\\":false,\\\"force_streaming\\\":false,\\\"track_child_runs\\\":true,\\\"allowed_private_models\\\":[],\\\"label_column_name\\\":\\\"DEATH_EVENT\\\",\\\"weight_column_name\\\":null,\\\"cv_split_column_names\\\":null,\\\"enable_local_managed\\\":false,\\\"_local_managed_run_id\\\":null,\\\"cost_mode\\\":1,\\\"lag_length\\\":0,\\\"metric_operation\\\":\\\"maximize\\\",\\\"preprocess\\\":true}\", \"DataPrepJsonString\": null, \"EnableSubsampling\": null, \"runTemplate\": \"AutoML\", \"azureml.runsource\": \"automl\", \"display_task_type\": \"classification\", \"dependencies_versions\": \"{\\\"azureml-widgets\\\": \\\"1.20.0\\\", \\\"azureml-train\\\": \\\"1.20.0\\\", \\\"azureml-train-restclients-hyperdrive\\\": \\\"1.20.0\\\", \\\"azureml-train-core\\\": \\\"1.20.0\\\", \\\"azureml-train-automl\\\": \\\"1.20.0\\\", \\\"azureml-train-automl-runtime\\\": \\\"1.20.0\\\", \\\"azureml-train-automl-client\\\": \\\"1.20.0\\\", \\\"azureml-tensorboard\\\": \\\"1.20.0\\\", \\\"azureml-telemetry\\\": \\\"1.20.0\\\", \\\"azureml-sdk\\\": \\\"1.20.0\\\", \\\"azureml-samples\\\": \\\"0+unknown\\\", \\\"azureml-pipeline\\\": \\\"1.20.0\\\", \\\"azureml-pipeline-steps\\\": \\\"1.20.0\\\", \\\"azureml-pipeline-core\\\": \\\"1.20.0\\\", \\\"azureml-opendatasets\\\": \\\"1.20.0\\\", \\\"azureml-model-management-sdk\\\": \\\"1.0.1b6.post1\\\", \\\"azureml-mlflow\\\": \\\"1.20.0.post1\\\", \\\"azureml-interpret\\\": \\\"1.20.0\\\", \\\"azureml-explain-model\\\": \\\"1.20.0\\\", \\\"azureml-defaults\\\": \\\"1.20.0\\\", \\\"azureml-dataset-runtime\\\": \\\"1.20.0\\\", \\\"azureml-dataprep\\\": \\\"2.7.3\\\", \\\"azureml-dataprep-rslex\\\": \\\"1.5.0\\\", \\\"azureml-dataprep-native\\\": \\\"27.0.0\\\", \\\"azureml-datadrift\\\": \\\"1.20.0\\\", \\\"azureml-core\\\": \\\"1.20.0\\\", \\\"azureml-contrib-services\\\": \\\"1.20.0\\\", \\\"azureml-contrib-server\\\": \\\"1.20.0\\\", \\\"azureml-contrib-reinforcementlearning\\\": \\\"1.20.0\\\", \\\"azureml-contrib-pipeline-steps\\\": \\\"1.20.0\\\", \\\"azureml-contrib-notebook\\\": \\\"1.20.0\\\", \\\"azureml-contrib-interpret\\\": \\\"1.20.0\\\", \\\"azureml-contrib-gbdt\\\": \\\"1.20.0\\\", \\\"azureml-contrib-fairness\\\": \\\"1.20.0\\\", \\\"azureml-contrib-dataset\\\": \\\"1.20.0\\\", \\\"azureml-cli-common\\\": \\\"1.20.0\\\", \\\"azureml-automl-runtime\\\": \\\"1.20.0\\\", \\\"azureml-automl-core\\\": \\\"1.20.0\\\", \\\"azureml-accel-models\\\": \\\"1.20.0\\\"}\", \"_aml_system_scenario_identification\": \"Local.Parent\", \"ClientSdkVersion\": \"1.20.0\", \"ClientType\": \"SDK\", \"environment_cpu_name\": \"AzureML-AutoML\", \"environment_cpu_label\": \"prod\", \"environment_gpu_name\": \"AzureML-AutoML-GPU\", \"environment_gpu_label\": \"prod\", \"root_attribution\": \"automl\", \"attribution\": \"AutoML\", \"Orchestrator\": \"AutoML\", \"_azureml.ComputeTargetType\": \"local\", \"ProblemInfoJsonString\": \"{\\\"dataset_num_categorical\\\": 0, \\\"is_sparse\\\": false, \\\"subsampling\\\": false, \\\"dataset_classes\\\": 2, \\\"dataset_features\\\": 12, \\\"dataset_samples\\\": 237, \\\"single_frequency_class_detected\\\": false}\", \"feature_skus\": \"automatedml_sdk_guardrails\"}, \"tags\": {\"model_explain_run\": \"best_run\", \"best_score\": \"0.8775709219858155\", \"best_pipeline\": \"VotingEnsemble\", \"automl_best_child_run_id\": \"AutoML_b380ebbc-566a-4f05-a475-fce2f40b8161_37\", \"model_explain_best_run_child_id\": \"AutoML_b380ebbc-566a-4f05-a475-fce2f40b8161_37\"}, \"end_time_utc\": \"2021-01-26T14:15:27.679638Z\", \"status\": \"Completed\", \"log_files\": {}, \"log_groups\": [], \"run_duration\": \"0:21:30\"}, \"child_runs\": [{\"run_id\": \"AutoML_b380ebbc-566a-4f05-a475-fce2f40b8161_0\", \"run_number\": 36, \"metric\": null, \"status\": \"Completed\", \"run_type\": null, \"training_percent\": \"100\", \"start_time\": \"2021-01-26T13:54:11.2021Z\", \"end_time\": \"2021-01-26T13:54:38.088583Z\", \"created_time\": \"2021-01-26T13:54:10.985426Z\", \"created_time_dt\": \"2021-01-26T13:54:10.985426Z\", \"duration\": \"0:00:27\", \"iteration\": \"0\", \"goal\": \"accuracy_max\", \"run_name\": \"MaxAbsScaler, LightGBM\", \"run_properties\": \"copy=True\", \"primary_metric\": 0.80585106, \"best_metric\": 0.80585106}, {\"run_id\": \"AutoML_b380ebbc-566a-4f05-a475-fce2f40b8161_1\", \"run_number\": 37, \"metric\": null, \"status\": \"Completed\", \"run_type\": null, \"training_percent\": \"100\", \"start_time\": \"2021-01-26T13:54:38.402043Z\", \"end_time\": \"2021-01-26T13:55:05.904335Z\", \"created_time\": \"2021-01-26T13:54:38.301253Z\", \"created_time_dt\": \"2021-01-26T13:54:38.301253Z\", \"duration\": \"0:00:27\", \"iteration\": \"1\", \"goal\": \"accuracy_max\", \"run_name\": \"MaxAbsScaler, XGBoostClassifier\", \"run_properties\": \"copy=True\", \"primary_metric\": 0.82703901, \"best_metric\": 0.82703901}, {\"run_id\": \"AutoML_b380ebbc-566a-4f05-a475-fce2f40b8161_2\", \"run_number\": 38, \"metric\": null, \"status\": \"Completed\", \"run_type\": null, \"training_percent\": \"100\", \"start_time\": \"2021-01-26T13:55:06.541445Z\", \"end_time\": \"2021-01-26T13:55:34.916523Z\", \"created_time\": \"2021-01-26T13:55:06.433287Z\", \"created_time_dt\": \"2021-01-26T13:55:06.433287Z\", \"duration\": \"0:00:28\", \"iteration\": \"2\", \"goal\": \"accuracy_max\", \"run_name\": \"MinMaxScaler, RandomForest\", \"run_properties\": \"copy=True, feature_range=(0, 1\", \"primary_metric\": 0.82278369, \"best_metric\": 0.82703901}, {\"run_id\": \"AutoML_b380ebbc-566a-4f05-a475-fce2f40b8161_3\", \"run_number\": 39, \"metric\": null, \"status\": \"Completed\", \"run_type\": null, \"training_percent\": \"100\", \"start_time\": \"2021-01-26T13:55:36.307203Z\", \"end_time\": \"2021-01-26T13:56:05.106902Z\", \"created_time\": \"2021-01-26T13:55:36.191459Z\", \"created_time_dt\": \"2021-01-26T13:55:36.191459Z\", \"duration\": \"0:00:28\", \"iteration\": \"3\", \"goal\": \"accuracy_max\", \"run_name\": \"MinMaxScaler, RandomForest\", \"run_properties\": \"copy=True, feature_range=(0, 1\", \"primary_metric\": 0.82712766, \"best_metric\": 0.82712766}, {\"run_id\": \"AutoML_b380ebbc-566a-4f05-a475-fce2f40b8161_4\", \"run_number\": 40, \"metric\": null, \"status\": \"Completed\", \"run_type\": null, \"training_percent\": \"100\", \"start_time\": \"2021-01-26T13:56:06.912055Z\", \"end_time\": \"2021-01-26T13:56:34.85191Z\", \"created_time\": \"2021-01-26T13:56:06.698727Z\", \"created_time_dt\": \"2021-01-26T13:56:06.698727Z\", \"duration\": \"0:00:28\", \"iteration\": \"4\", \"goal\": \"accuracy_max\", \"run_name\": \"MinMaxScaler, RandomForest\", \"run_properties\": \"copy=True, feature_range=(0, 1\", \"primary_metric\": 0.83120567, \"best_metric\": 0.83120567}, {\"run_id\": \"AutoML_b380ebbc-566a-4f05-a475-fce2f40b8161_5\", \"run_number\": 41, \"metric\": null, \"status\": \"Completed\", \"run_type\": null, \"training_percent\": \"100\", \"start_time\": \"2021-01-26T13:56:36.843746Z\", \"end_time\": \"2021-01-26T13:57:06.160953Z\", \"created_time\": \"2021-01-26T13:56:36.421068Z\", \"created_time_dt\": \"2021-01-26T13:56:36.421068Z\", \"duration\": \"0:00:29\", \"iteration\": \"5\", \"goal\": \"accuracy_max\", \"run_name\": \"MinMaxScaler, SVM\", \"run_properties\": \"copy=True, feature_range=(0, 1\", \"primary_metric\": 0.73492908, \"best_metric\": 0.83120567}, {\"run_id\": \"AutoML_b380ebbc-566a-4f05-a475-fce2f40b8161_6\", \"run_number\": 42, \"metric\": null, \"status\": \"Completed\", \"run_type\": null, \"training_percent\": \"100\", \"start_time\": \"2021-01-26T13:57:08.116678Z\", \"end_time\": \"2021-01-26T13:57:37.62199Z\", \"created_time\": \"2021-01-26T13:57:07.705986Z\", \"created_time_dt\": \"2021-01-26T13:57:07.705986Z\", \"duration\": \"0:00:29\", \"iteration\": \"6\", \"goal\": \"accuracy_max\", \"run_name\": \"MaxAbsScaler, GradientBoosting\", \"run_properties\": \"copy=True\", \"primary_metric\": 0.84379433, \"best_metric\": 0.84379433}, {\"run_id\": \"AutoML_b380ebbc-566a-4f05-a475-fce2f40b8161_7\", \"run_number\": 43, \"metric\": null, \"status\": \"Completed\", \"run_type\": null, \"training_percent\": \"100\", \"start_time\": \"2021-01-26T13:57:39.115682Z\", \"end_time\": \"2021-01-26T13:58:06.047898Z\", \"created_time\": \"2021-01-26T13:57:38.900414Z\", \"created_time_dt\": \"2021-01-26T13:57:38.900414Z\", \"duration\": \"0:00:27\", \"iteration\": \"7\", \"goal\": \"accuracy_max\", \"run_name\": \"StandardScalerWrapper, RandomForest\", \"run_properties\": \"<azureml.automl.runtime.shared.model_wrappers.StandardScalerWrapper object at 0x7f9deedfbef0\", \"primary_metric\": 0.82695035, \"best_metric\": 0.84379433}, {\"run_id\": \"AutoML_b380ebbc-566a-4f05-a475-fce2f40b8161_8\", \"run_number\": 44, \"metric\": null, \"status\": \"Completed\", \"run_type\": null, \"training_percent\": \"100\", \"start_time\": \"2021-01-26T13:58:07.308652Z\", \"end_time\": \"2021-01-26T13:58:32.90528Z\", \"created_time\": \"2021-01-26T13:58:07.181903Z\", \"created_time_dt\": \"2021-01-26T13:58:07.181903Z\", \"duration\": \"0:00:25\", \"iteration\": \"8\", \"goal\": \"accuracy_max\", \"run_name\": \"SparseNormalizer, XGBoostClassifier\", \"run_properties\": \"<azureml.automl.runtime.shared.model_wrappers.SparseNormalizer object at 0x7f9df400de10\", \"primary_metric\": 0.80585106, \"best_metric\": 0.84379433}, {\"run_id\": \"AutoML_b380ebbc-566a-4f05-a475-fce2f40b8161_9\", \"run_number\": 45, \"metric\": null, \"status\": \"Completed\", \"run_type\": null, \"training_percent\": \"100\", \"start_time\": \"2021-01-26T13:58:34.131669Z\", \"end_time\": \"2021-01-26T13:59:01.300213Z\", \"created_time\": \"2021-01-26T13:58:34.032643Z\", \"created_time_dt\": \"2021-01-26T13:58:34.032643Z\", \"duration\": \"0:00:27\", \"iteration\": \"9\", \"goal\": \"accuracy_max\", \"run_name\": \"SparseNormalizer, LightGBM\", \"run_properties\": \"<azureml.automl.runtime.shared.model_wrappers.SparseNormalizer object at 0x7f9d44edd320\", \"primary_metric\": 0.8016844, \"best_metric\": 0.84379433}, {\"run_id\": \"AutoML_b380ebbc-566a-4f05-a475-fce2f40b8161_10\", \"run_number\": 46, \"metric\": null, \"status\": \"Completed\", \"run_type\": null, \"training_percent\": \"100\", \"start_time\": \"2021-01-26T13:59:02.798016Z\", \"end_time\": \"2021-01-26T13:59:27.795366Z\", \"created_time\": \"2021-01-26T13:59:02.588127Z\", \"created_time_dt\": \"2021-01-26T13:59:02.588127Z\", \"duration\": \"0:00:25\", \"iteration\": \"10\", \"goal\": \"accuracy_max\", \"run_name\": \"RobustScaler, RandomForest\", \"run_properties\": \"copy=True, quantile_range=[10, 90], with_centering=True,\\n             with_scaling=True\", \"primary_metric\": 0.8608156, \"best_metric\": 0.8608156}, {\"run_id\": \"AutoML_b380ebbc-566a-4f05-a475-fce2f40b8161_11\", \"run_number\": 47, \"metric\": null, \"status\": \"Completed\", \"run_type\": null, \"training_percent\": \"100\", \"start_time\": \"2021-01-26T13:59:28.992037Z\", \"end_time\": \"2021-01-26T13:59:54.37925Z\", \"created_time\": \"2021-01-26T13:59:28.884488Z\", \"created_time_dt\": \"2021-01-26T13:59:28.884488Z\", \"duration\": \"0:00:25\", \"iteration\": \"11\", \"goal\": \"accuracy_max\", \"run_name\": \"MaxAbsScaler, LightGBM\", \"run_properties\": \"copy=True\", \"primary_metric\": 0.84414894, \"best_metric\": 0.8608156}, {\"run_id\": \"AutoML_b380ebbc-566a-4f05-a475-fce2f40b8161_12\", \"run_number\": 48, \"metric\": null, \"status\": \"Completed\", \"run_type\": null, \"training_percent\": \"100\", \"start_time\": \"2021-01-26T13:59:55.74306Z\", \"end_time\": \"2021-01-26T14:00:24.598626Z\", \"created_time\": \"2021-01-26T13:59:55.593852Z\", \"created_time_dt\": \"2021-01-26T13:59:55.593852Z\", \"duration\": \"0:00:29\", \"iteration\": \"12\", \"goal\": \"accuracy_max\", \"run_name\": \"RobustScaler, ExtremeRandomTrees\", \"run_properties\": \"copy=True, quantile_range=[25, 75], with_centering=True,\\n             with_scaling=False\", \"primary_metric\": 0.83120567, \"best_metric\": 0.8608156}, {\"run_id\": \"AutoML_b380ebbc-566a-4f05-a475-fce2f40b8161_13\", \"run_number\": 49, \"metric\": null, \"status\": \"Completed\", \"run_type\": null, \"training_percent\": \"100\", \"start_time\": \"2021-01-26T14:00:25.85423Z\", \"end_time\": \"2021-01-26T14:01:15.239827Z\", \"created_time\": \"2021-01-26T14:00:25.742089Z\", \"created_time_dt\": \"2021-01-26T14:00:25.742089Z\", \"duration\": \"0:00:49\", \"iteration\": \"13\", \"goal\": \"accuracy_max\", \"run_name\": \"SparseNormalizer, XGBoostClassifier\", \"run_properties\": \"<azureml.automl.runtime.shared.model_wrappers.SparseNormalizer object at 0x7f9dedf9af98\", \"primary_metric\": 0.78874113, \"best_metric\": 0.8608156}, {\"run_id\": \"AutoML_b380ebbc-566a-4f05-a475-fce2f40b8161_14\", \"run_number\": 50, \"metric\": null, \"status\": \"Completed\", \"run_type\": null, \"training_percent\": \"100\", \"start_time\": \"2021-01-26T14:01:16.652058Z\", \"end_time\": \"2021-01-26T14:01:42.999869Z\", \"created_time\": \"2021-01-26T14:01:16.45338Z\", \"created_time_dt\": \"2021-01-26T14:01:16.45338Z\", \"duration\": \"0:00:26\", \"iteration\": \"14\", \"goal\": \"accuracy_max\", \"run_name\": \"StandardScalerWrapper, LightGBM\", \"run_properties\": \"<azureml.automl.runtime.shared.model_wrappers.StandardScalerWrapper object at 0x7f9df4070160\", \"primary_metric\": 0.80203901, \"best_metric\": 0.8608156}, {\"run_id\": \"AutoML_b380ebbc-566a-4f05-a475-fce2f40b8161_15\", \"run_number\": 51, \"metric\": null, \"status\": \"Completed\", \"run_type\": null, \"training_percent\": \"100\", \"start_time\": \"2021-01-26T14:01:46.313854Z\", \"end_time\": \"2021-01-26T14:02:15.470012Z\", \"created_time\": \"2021-01-26T14:01:46.185788Z\", \"created_time_dt\": \"2021-01-26T14:01:46.185788Z\", \"duration\": \"0:00:29\", \"iteration\": \"15\", \"goal\": \"accuracy_max\", \"run_name\": \"StandardScalerWrapper, XGBoostClassifier\", \"run_properties\": \"<azureml.automl.runtime.shared.model_wrappers.StandardScalerWrapper object at 0x7f9deecb2278\", \"primary_metric\": 0.81427305, \"best_metric\": 0.8608156}, {\"run_id\": \"AutoML_b380ebbc-566a-4f05-a475-fce2f40b8161_16\", \"run_number\": 52, \"metric\": null, \"status\": \"Completed\", \"run_type\": null, \"training_percent\": \"100\", \"start_time\": \"2021-01-26T14:02:16.88175Z\", \"end_time\": \"2021-01-26T14:02:44.42826Z\", \"created_time\": \"2021-01-26T14:02:16.575684Z\", \"created_time_dt\": \"2021-01-26T14:02:16.575684Z\", \"duration\": \"0:00:27\", \"iteration\": \"16\", \"goal\": \"accuracy_max\", \"run_name\": \"StandardScalerWrapper, XGBoostClassifier\", \"run_properties\": \"<azureml.automl.runtime.shared.model_wrappers.StandardScalerWrapper object at 0x7f9deecb0d30\", \"primary_metric\": 0.8481383, \"best_metric\": 0.8608156}, {\"run_id\": \"AutoML_b380ebbc-566a-4f05-a475-fce2f40b8161_17\", \"run_number\": 53, \"metric\": null, \"status\": \"Completed\", \"run_type\": null, \"training_percent\": \"100\", \"start_time\": \"2021-01-26T14:02:45.848329Z\", \"end_time\": \"2021-01-26T14:03:15.789484Z\", \"created_time\": \"2021-01-26T14:02:45.637769Z\", \"created_time_dt\": \"2021-01-26T14:02:45.637769Z\", \"duration\": \"0:00:30\", \"iteration\": \"17\", \"goal\": \"accuracy_max\", \"run_name\": \"StandardScalerWrapper, RandomForest\", \"run_properties\": \"<azureml.automl.runtime.shared.model_wrappers.StandardScalerWrapper object at 0x7f9deec1f438\", \"primary_metric\": 0.84804965, \"best_metric\": 0.8608156}, {\"run_id\": \"AutoML_b380ebbc-566a-4f05-a475-fce2f40b8161_18\", \"run_number\": 54, \"metric\": null, \"status\": \"Completed\", \"run_type\": null, \"training_percent\": \"100\", \"start_time\": \"2021-01-26T14:03:17.128079Z\", \"end_time\": \"2021-01-26T14:03:44.390588Z\", \"created_time\": \"2021-01-26T14:03:16.949104Z\", \"created_time_dt\": \"2021-01-26T14:03:16.949104Z\", \"duration\": \"0:00:27\", \"iteration\": \"18\", \"goal\": \"accuracy_max\", \"run_name\": \"MinMaxScaler, RandomForest\", \"run_properties\": \"copy=True, feature_range=(0, 1\", \"primary_metric\": 0.83945035, \"best_metric\": 0.8608156}, {\"run_id\": \"AutoML_b380ebbc-566a-4f05-a475-fce2f40b8161_19\", \"run_number\": 55, \"metric\": null, \"status\": \"Completed\", \"run_type\": null, \"training_percent\": \"100\", \"start_time\": \"2021-01-26T14:03:46.015385Z\", \"end_time\": \"2021-01-26T14:04:21.087103Z\", \"created_time\": \"2021-01-26T14:03:45.903585Z\", \"created_time_dt\": \"2021-01-26T14:03:45.903585Z\", \"duration\": \"0:00:35\", \"iteration\": \"19\", \"goal\": \"accuracy_max\", \"run_name\": \"MinMaxScaler, LightGBM\", \"run_properties\": \"copy=True, feature_range=(0, 1\", \"primary_metric\": 0.83120567, \"best_metric\": 0.8608156}, {\"run_id\": \"AutoML_b380ebbc-566a-4f05-a475-fce2f40b8161_20\", \"run_number\": 56, \"metric\": null, \"status\": \"Completed\", \"run_type\": null, \"training_percent\": \"100\", \"start_time\": \"2021-01-26T14:04:22.484428Z\", \"end_time\": \"2021-01-26T14:04:58.826259Z\", \"created_time\": \"2021-01-26T14:04:22.356847Z\", \"created_time_dt\": \"2021-01-26T14:04:22.356847Z\", \"duration\": \"0:00:36\", \"iteration\": \"20\", \"goal\": \"accuracy_max\", \"run_name\": \"StandardScalerWrapper, KNN\", \"run_properties\": \"<azureml.automl.runtime.shared.model_wrappers.StandardScalerWrapper object at 0x7f9dee658128\", \"primary_metric\": 0.58262411, \"best_metric\": 0.8608156}, {\"run_id\": \"AutoML_b380ebbc-566a-4f05-a475-fce2f40b8161_21\", \"run_number\": 57, \"metric\": null, \"status\": \"Completed\", \"run_type\": null, \"training_percent\": \"100\", \"start_time\": \"2021-01-26T14:05:00.336204Z\", \"end_time\": \"2021-01-26T14:05:27.642143Z\", \"created_time\": \"2021-01-26T14:05:00.099852Z\", \"created_time_dt\": \"2021-01-26T14:05:00.099852Z\", \"duration\": \"0:00:27\", \"iteration\": \"21\", \"goal\": \"accuracy_max\", \"run_name\": \"StandardScalerWrapper, RandomForest\", \"run_properties\": \"<azureml.automl.runtime.shared.model_wrappers.StandardScalerWrapper object at 0x7f9dee685470\", \"primary_metric\": 0.85212766, \"best_metric\": 0.8608156}, {\"run_id\": \"AutoML_b380ebbc-566a-4f05-a475-fce2f40b8161_22\", \"run_number\": 58, \"metric\": null, \"status\": \"Completed\", \"run_type\": null, \"training_percent\": \"100\", \"start_time\": \"2021-01-26T14:05:28.936942Z\", \"end_time\": \"2021-01-26T14:05:55.597671Z\", \"created_time\": \"2021-01-26T14:05:28.799814Z\", \"created_time_dt\": \"2021-01-26T14:05:28.799814Z\", \"duration\": \"0:00:26\", \"iteration\": \"22\", \"goal\": \"accuracy_max\", \"run_name\": \"StandardScalerWrapper, XGBoostClassifier\", \"run_properties\": \"<azureml.automl.runtime.shared.model_wrappers.StandardScalerWrapper object at 0x7f9deecb6160\", \"primary_metric\": 0.82304965, \"best_metric\": 0.8608156}, {\"run_id\": \"AutoML_b380ebbc-566a-4f05-a475-fce2f40b8161_23\", \"run_number\": 59, \"metric\": null, \"status\": \"Completed\", \"run_type\": null, \"training_percent\": \"100\", \"start_time\": \"2021-01-26T14:05:57.267508Z\", \"end_time\": \"2021-01-26T14:06:29.50719Z\", \"created_time\": \"2021-01-26T14:05:57.085127Z\", \"created_time_dt\": \"2021-01-26T14:05:57.085127Z\", \"duration\": \"0:00:32\", \"iteration\": \"23\", \"goal\": \"accuracy_max\", \"run_name\": \"MaxAbsScaler, LightGBM\", \"run_properties\": \"copy=True\", \"primary_metric\": 0.79335106, \"best_metric\": 0.8608156}, {\"run_id\": \"AutoML_b380ebbc-566a-4f05-a475-fce2f40b8161_24\", \"run_number\": 60, \"metric\": null, \"status\": \"Completed\", \"run_type\": null, \"training_percent\": \"100\", \"start_time\": \"2021-01-26T14:06:30.761212Z\", \"end_time\": \"2021-01-26T14:07:04.115639Z\", \"created_time\": \"2021-01-26T14:06:30.623091Z\", \"created_time_dt\": \"2021-01-26T14:06:30.623091Z\", \"duration\": \"0:00:33\", \"iteration\": \"24\", \"goal\": \"accuracy_max\", \"run_name\": \"SparseNormalizer, XGBoostClassifier\", \"run_properties\": \"<azureml.automl.runtime.shared.model_wrappers.SparseNormalizer object at 0x7f9dee68d6a0\", \"primary_metric\": 0.78882979, \"best_metric\": 0.8608156}, {\"run_id\": \"AutoML_b380ebbc-566a-4f05-a475-fce2f40b8161_25\", \"run_number\": 61, \"metric\": null, \"status\": \"Completed\", \"run_type\": null, \"training_percent\": \"100\", \"start_time\": \"2021-01-26T14:07:06.177854Z\", \"end_time\": \"2021-01-26T14:07:39.126152Z\", \"created_time\": \"2021-01-26T14:07:06.064044Z\", \"created_time_dt\": \"2021-01-26T14:07:06.064044Z\", \"duration\": \"0:00:33\", \"iteration\": \"25\", \"goal\": \"accuracy_max\", \"run_name\": \"SparseNormalizer, RandomForest\", \"run_properties\": \"<azureml.automl.runtime.shared.model_wrappers.SparseNormalizer object at 0x7f9dee72f828\", \"primary_metric\": 0.78891844, \"best_metric\": 0.8608156}, {\"run_id\": \"AutoML_b380ebbc-566a-4f05-a475-fce2f40b8161_26\", \"run_number\": 62, \"metric\": null, \"status\": \"Completed\", \"run_type\": null, \"training_percent\": \"100\", \"start_time\": \"2021-01-26T14:07:40.58563Z\", \"end_time\": \"2021-01-26T14:08:14.171211Z\", \"created_time\": \"2021-01-26T14:07:40.350438Z\", \"created_time_dt\": \"2021-01-26T14:07:40.350438Z\", \"duration\": \"0:00:33\", \"iteration\": \"26\", \"goal\": \"accuracy_max\", \"run_name\": \"RobustScaler, GradientBoosting\", \"run_properties\": \"copy=True, quantile_range=[25, 75], with_centering=False,\\n             with_scaling=False\", \"primary_metric\": 0.86914894, \"best_metric\": 0.86914894}, {\"run_id\": \"AutoML_b380ebbc-566a-4f05-a475-fce2f40b8161_27\", \"run_number\": 63, \"metric\": null, \"status\": \"Completed\", \"run_type\": null, \"training_percent\": \"100\", \"start_time\": \"2021-01-26T14:08:15.568151Z\", \"end_time\": \"2021-01-26T14:08:45.731177Z\", \"created_time\": \"2021-01-26T14:08:15.362726Z\", \"created_time_dt\": \"2021-01-26T14:08:15.362726Z\", \"duration\": \"0:00:30\", \"iteration\": \"27\", \"goal\": \"accuracy_max\", \"run_name\": \"StandardScalerWrapper, LightGBM\", \"run_properties\": \"<azureml.automl.runtime.shared.model_wrappers.StandardScalerWrapper object at 0x7f9dee51e208\", \"primary_metric\": 0.79352837, \"best_metric\": 0.86914894}, {\"run_id\": \"AutoML_b380ebbc-566a-4f05-a475-fce2f40b8161_28\", \"run_number\": 64, \"metric\": null, \"status\": \"Completed\", \"run_type\": null, \"training_percent\": \"100\", \"start_time\": \"2021-01-26T14:08:47.286375Z\", \"end_time\": \"2021-01-26T14:09:15.152548Z\", \"created_time\": \"2021-01-26T14:08:47.081599Z\", \"created_time_dt\": \"2021-01-26T14:08:47.081599Z\", \"duration\": \"0:00:28\", \"iteration\": \"28\", \"goal\": \"accuracy_max\", \"run_name\": \"SparseNormalizer, XGBoostClassifier\", \"run_properties\": \"<azureml.automl.runtime.shared.model_wrappers.SparseNormalizer object at 0x7f9dee7f26a0\", \"primary_metric\": 0.79335106, \"best_metric\": 0.86914894}, {\"run_id\": \"AutoML_b380ebbc-566a-4f05-a475-fce2f40b8161_29\", \"run_number\": 65, \"metric\": null, \"status\": \"Completed\", \"run_type\": null, \"training_percent\": \"100\", \"start_time\": \"2021-01-26T14:09:16.428524Z\", \"end_time\": \"2021-01-26T14:09:46.999744Z\", \"created_time\": \"2021-01-26T14:09:16.323969Z\", \"created_time_dt\": \"2021-01-26T14:09:16.323969Z\", \"duration\": \"0:00:30\", \"iteration\": \"29\", \"goal\": \"accuracy_max\", \"run_name\": \"StandardScalerWrapper, ExtremeRandomTrees\", \"run_properties\": \"<azureml.automl.runtime.shared.model_wrappers.StandardScalerWrapper object at 0x7f9dee78f7f0\", \"primary_metric\": 0.81471631, \"best_metric\": 0.86914894}, {\"run_id\": \"AutoML_b380ebbc-566a-4f05-a475-fce2f40b8161_30\", \"run_number\": 66, \"metric\": null, \"status\": \"Completed\", \"run_type\": null, \"training_percent\": \"100\", \"start_time\": \"2021-01-26T14:09:49.378354Z\", \"end_time\": \"2021-01-26T14:10:23.732542Z\", \"created_time\": \"2021-01-26T14:09:49.260562Z\", \"created_time_dt\": \"2021-01-26T14:09:49.260562Z\", \"duration\": \"0:00:34\", \"iteration\": \"30\", \"goal\": \"accuracy_max\", \"run_name\": \"MaxAbsScaler, GradientBoosting\", \"run_properties\": \"copy=True\", \"primary_metric\": 0.67118794, \"best_metric\": 0.86914894}, {\"run_id\": \"AutoML_b380ebbc-566a-4f05-a475-fce2f40b8161_31\", \"run_number\": 67, \"metric\": null, \"status\": \"Completed\", \"run_type\": null, \"training_percent\": \"100\", \"start_time\": \"2021-01-26T14:10:25.339145Z\", \"end_time\": \"2021-01-26T14:10:55.381205Z\", \"created_time\": \"2021-01-26T14:10:25.120101Z\", \"created_time_dt\": \"2021-01-26T14:10:25.120101Z\", \"duration\": \"0:00:30\", \"iteration\": \"31\", \"goal\": \"accuracy_max\", \"run_name\": \"MinMaxScaler, LightGBM\", \"run_properties\": \"copy=True, feature_range=(0, 1\", \"primary_metric\": 0.82296099, \"best_metric\": 0.86914894}, {\"run_id\": \"AutoML_b380ebbc-566a-4f05-a475-fce2f40b8161_32\", \"run_number\": 68, \"metric\": null, \"status\": \"Completed\", \"run_type\": null, \"training_percent\": \"100\", \"start_time\": \"2021-01-26T14:10:56.86526Z\", \"end_time\": \"2021-01-26T14:11:28.769029Z\", \"created_time\": \"2021-01-26T14:10:56.659453Z\", \"created_time_dt\": \"2021-01-26T14:10:56.659453Z\", \"duration\": \"0:00:32\", \"iteration\": \"32\", \"goal\": \"accuracy_max\", \"run_name\": \"SparseNormalizer, XGBoostClassifier\", \"run_properties\": \"<azureml.automl.runtime.shared.model_wrappers.SparseNormalizer object at 0x7f9dee63b908\", \"primary_metric\": 0.80177305, \"best_metric\": 0.86914894}, {\"run_id\": \"AutoML_b380ebbc-566a-4f05-a475-fce2f40b8161_33\", \"run_number\": 69, \"metric\": null, \"status\": \"Completed\", \"run_type\": null, \"training_percent\": \"100\", \"start_time\": \"2021-01-26T14:11:30.218131Z\", \"end_time\": \"2021-01-26T14:11:57.343819Z\", \"created_time\": \"2021-01-26T14:11:30.022617Z\", \"created_time_dt\": \"2021-01-26T14:11:30.022617Z\", \"duration\": \"0:00:27\", \"iteration\": \"33\", \"goal\": \"accuracy_max\", \"run_name\": \"RobustScaler, LightGBM\", \"run_properties\": \"copy=True, quantile_range=[10, 90], with_centering=True,\\n             with_scaling=False\", \"primary_metric\": 0.85656028, \"best_metric\": 0.86914894}, {\"run_id\": \"AutoML_b380ebbc-566a-4f05-a475-fce2f40b8161_34\", \"run_number\": 70, \"metric\": null, \"status\": \"Completed\", \"run_type\": null, \"training_percent\": \"100\", \"start_time\": \"2021-01-26T14:11:58.522586Z\", \"end_time\": \"2021-01-26T14:12:27.818456Z\", \"created_time\": \"2021-01-26T14:11:58.410582Z\", \"created_time_dt\": \"2021-01-26T14:11:58.410582Z\", \"duration\": \"0:00:29\", \"iteration\": \"34\", \"goal\": \"accuracy_max\", \"run_name\": \"SparseNormalizer, LightGBM\", \"run_properties\": \"<azureml.automl.runtime.shared.model_wrappers.SparseNormalizer object at 0x7f9d2bbf2588\", \"primary_metric\": 0.83537234, \"best_metric\": 0.86914894}, {\"run_id\": \"AutoML_b380ebbc-566a-4f05-a475-fce2f40b8161_35\", \"run_number\": 71, \"metric\": null, \"status\": \"Completed\", \"run_type\": null, \"training_percent\": \"100\", \"start_time\": \"2021-01-26T14:12:29.950474Z\", \"end_time\": \"2021-01-26T14:12:59.210358Z\", \"created_time\": \"2021-01-26T14:12:29.839919Z\", \"created_time_dt\": \"2021-01-26T14:12:29.839919Z\", \"duration\": \"0:00:29\", \"iteration\": \"35\", \"goal\": \"accuracy_max\", \"run_name\": \"RobustScaler, GradientBoosting\", \"run_properties\": \"copy=True, quantile_range=[25, 75], with_centering=True,\\n             with_scaling=False\", \"primary_metric\": 0.72163121, \"best_metric\": 0.86914894}, {\"run_id\": \"AutoML_b380ebbc-566a-4f05-a475-fce2f40b8161_36\", \"run_number\": 72, \"metric\": null, \"status\": \"Completed\", \"run_type\": null, \"training_percent\": \"100\", \"start_time\": \"2021-01-26T14:13:00.685177Z\", \"end_time\": \"2021-01-26T14:13:29.91855Z\", \"created_time\": \"2021-01-26T14:13:00.472698Z\", \"created_time_dt\": \"2021-01-26T14:13:00.472698Z\", \"duration\": \"0:00:29\", \"iteration\": \"36\", \"goal\": \"accuracy_max\", \"run_name\": \"MinMaxScaler, RandomForest\", \"run_properties\": \"copy=True, feature_range=(0, 1\", \"primary_metric\": 0.86914894, \"best_metric\": 0.86914894}, {\"run_id\": \"AutoML_b380ebbc-566a-4f05-a475-fce2f40b8161_37\", \"run_number\": 73, \"metric\": null, \"status\": \"Completed\", \"run_type\": null, \"training_percent\": \"100\", \"start_time\": \"2021-01-26T14:13:30.310177Z\", \"end_time\": \"2021-01-26T14:14:23.462466Z\", \"created_time\": \"2021-01-26T14:13:30.200026Z\", \"created_time_dt\": \"2021-01-26T14:13:30.200026Z\", \"duration\": \"0:00:53\", \"iteration\": \"37\", \"goal\": \"accuracy_max\", \"run_name\": \"VotingEnsemble\", \"run_properties\": \"classification_labels=None,\\n                              estimators=[('36',\\n                                           Pipeline(memory=None,\\n                                                    steps=[('minmaxscaler',\\n                                                            MinMaxScaler(copy=True,\\n                                                                         feature_range=(0,\\n                                                                                        1\", \"primary_metric\": 0.87757092, \"best_metric\": 0.87757092}, {\"run_id\": \"AutoML_b380ebbc-566a-4f05-a475-fce2f40b8161_38\", \"run_number\": 74, \"metric\": null, \"status\": \"Completed\", \"run_type\": null, \"training_percent\": \"100\", \"start_time\": \"2021-01-26T14:14:23.816422Z\", \"end_time\": \"2021-01-26T14:15:24.753172Z\", \"created_time\": \"2021-01-26T14:14:23.710292Z\", \"created_time_dt\": \"2021-01-26T14:14:23.710292Z\", \"duration\": \"0:01:01\", \"iteration\": \"38\", \"goal\": \"accuracy_max\", \"run_name\": \"StackEnsemble\", \"run_properties\": \"base_learners=[('36',\\n                                        Pipeline(memory=None,\\n                                                 steps=[('minmaxscaler',\\n                                                         MinMaxScaler(copy=True,\\n                                                                      feature_range=(0,\\n                                                                                     1\", \"primary_metric\": 0.86906028, \"best_metric\": 0.87757092}], \"children_metrics\": {\"categories\": [0], \"series\": {\"AUC_weighted\": [{\"categories\": [\"0\", \"1\", \"2\", \"3\", \"4\", \"5\", \"6\", \"7\", \"8\", \"9\", \"10\", \"11\", \"12\", \"13\", \"14\", \"15\", \"16\", \"17\", \"18\", \"19\", \"20\", \"21\", \"22\", \"23\", \"24\", \"25\", \"26\", \"27\", \"28\", \"29\", \"30\", \"31\", \"32\", \"33\", \"34\", \"35\", \"36\", \"37\", \"38\"], \"mode\": \"markers\", \"name\": \"AUC_weighted\", \"stepped\": false, \"type\": \"scatter\", \"data\": [0.8903122535760108, 0.897254831827887, 0.8937555202261084, 0.9231042413015846, 0.8949588312586414, 0.7344927864662211, 0.9138029052260551, 0.9116008856616066, 0.8980665558274665, 0.8755556476049835, 0.9230403969872661, 0.9150596195377979, 0.9096381989930377, 0.8627992581692773, 0.9150719570833422, 0.9234069831033779, 0.914638212873507, 0.9249178020525269, 0.9023125789634328, 0.9099946625942831, 0.5013679129428655, 0.9279909832471501, 0.9086744334467294, 0.9042845165995071, 0.8759961611005254, 0.8118574303394039, 0.9287056265139757, 0.9114817123356023, 0.8755570159270348, 0.8906765486841388, 0.9183490540606289, 0.907063257974074, 0.8702994499389186, 0.9136415089735772, 0.87090259139595, 0.9154372333214837, 0.9270838595127021, 0.9242175016937827, 0.9247333627599282]}, {\"categories\": [\"0\", \"1\", \"2\", \"3\", \"4\", \"5\", \"6\", \"7\", \"8\", \"9\", \"10\", \"11\", \"12\", \"13\", \"14\", \"15\", \"16\", \"17\", \"18\", \"19\", \"20\", \"21\", \"22\", \"23\", \"24\", \"25\", \"26\", \"27\", \"28\", \"29\", \"30\", \"31\", \"32\", \"33\", \"34\", \"35\", \"36\", \"37\", \"38\"], \"mode\": \"lines\", \"name\": \"AUC_weighted_max\", \"stepped\": true, \"type\": \"scatter\", \"data\": [0.8903122535760108, 0.897254831827887, 0.897254831827887, 0.9231042413015846, 0.9231042413015846, 0.9231042413015846, 0.9231042413015846, 0.9231042413015846, 0.9231042413015846, 0.9231042413015846, 0.9231042413015846, 0.9231042413015846, 0.9231042413015846, 0.9231042413015846, 0.9231042413015846, 0.9234069831033779, 0.9234069831033779, 0.9249178020525269, 0.9249178020525269, 0.9249178020525269, 0.9249178020525269, 0.9279909832471501, 0.9279909832471501, 0.9279909832471501, 0.9279909832471501, 0.9279909832471501, 0.9287056265139757, 0.9287056265139757, 0.9287056265139757, 0.9287056265139757, 0.9287056265139757, 0.9287056265139757, 0.9287056265139757, 0.9287056265139757, 0.9287056265139757, 0.9287056265139757, 0.9287056265139757, 0.9287056265139757, 0.9287056265139757]}], \"average_precision_score_macro\": [{\"categories\": [\"0\", \"1\", \"2\", \"3\", \"4\", \"5\", \"6\", \"7\", \"8\", \"9\", \"10\", \"11\", \"12\", \"13\", \"14\", \"15\", \"16\", \"17\", \"18\", \"19\", \"20\", \"21\", \"22\", \"23\", \"24\", \"25\", \"26\", \"27\", \"28\", \"29\", \"30\", \"31\", \"32\", \"33\", \"34\", \"35\", \"36\", \"37\", \"38\"], \"mode\": \"markers\", \"name\": \"average_precision_score_macro\", \"stepped\": false, \"type\": \"scatter\", \"data\": [0.8639549193408202, 0.8663865329835726, 0.8711115243435777, 0.898691165017507, 0.8702462981222023, 0.7188223005590956, 0.883149125538458, 0.8836067142676699, 0.878666930290585, 0.8503742260207258, 0.9074606846860153, 0.9007949348070744, 0.888502638917956, 0.8287286524632191, 0.8890936903914213, 0.9138606499772376, 0.8801187078262359, 0.9038432198765063, 0.8673613831605287, 0.8867951085560032, 0.559129817134545, 0.907463105253392, 0.8749060872881111, 0.8911968565307504, 0.8574920520212995, 0.7725112864062593, 0.9087156240958091, 0.8848009340489508, 0.8567908909008075, 0.8807339141389223, 0.9044418586143349, 0.8850870541416482, 0.8563378615039587, 0.8946977891960086, 0.8537098633534642, 0.8956928824896281, 0.9073068004706721, 0.9057201574614242, 0.9062431465993859]}, {\"categories\": [\"0\", \"1\", \"2\", \"3\", \"4\", \"5\", \"6\", \"7\", \"8\", \"9\", \"10\", \"11\", \"12\", \"13\", \"14\", \"15\", \"16\", \"17\", \"18\", \"19\", \"20\", \"21\", \"22\", \"23\", \"24\", \"25\", \"26\", \"27\", \"28\", \"29\", \"30\", \"31\", \"32\", \"33\", \"34\", \"35\", \"36\", \"37\", \"38\"], \"mode\": \"lines\", \"name\": \"average_precision_score_macro_max\", \"stepped\": true, \"type\": \"scatter\", \"data\": [0.8639549193408202, 0.8663865329835726, 0.8711115243435777, 0.898691165017507, 0.898691165017507, 0.898691165017507, 0.898691165017507, 0.898691165017507, 0.898691165017507, 0.898691165017507, 0.9074606846860153, 0.9074606846860153, 0.9074606846860153, 0.9074606846860153, 0.9074606846860153, 0.9138606499772376, 0.9138606499772376, 0.9138606499772376, 0.9138606499772376, 0.9138606499772376, 0.9138606499772376, 0.9138606499772376, 0.9138606499772376, 0.9138606499772376, 0.9138606499772376, 0.9138606499772376, 0.9138606499772376, 0.9138606499772376, 0.9138606499772376, 0.9138606499772376, 0.9138606499772376, 0.9138606499772376, 0.9138606499772376, 0.9138606499772376, 0.9138606499772376, 0.9138606499772376, 0.9138606499772376, 0.9138606499772376, 0.9138606499772376]}], \"AUC_macro\": [{\"categories\": [\"0\", \"1\", \"2\", \"3\", \"4\", \"5\", \"6\", \"7\", \"8\", \"9\", \"10\", \"11\", \"12\", \"13\", \"14\", \"15\", \"16\", \"17\", \"18\", \"19\", \"20\", \"21\", \"22\", \"23\", \"24\", \"25\", \"26\", \"27\", \"28\", \"29\", \"30\", \"31\", \"32\", \"33\", \"34\", \"35\", \"36\", \"37\", \"38\"], \"mode\": \"markers\", \"name\": \"AUC_macro\", \"stepped\": false, \"type\": \"scatter\", \"data\": [0.8903122535760106, 0.897254831827887, 0.8937555202261084, 0.9231042413015847, 0.8949588312586414, 0.7344927864662211, 0.9138029052260551, 0.9116008856616066, 0.8980665558274665, 0.8755556476049835, 0.9230403969872661, 0.9150596195377979, 0.9096381989930377, 0.8627992581692772, 0.9150719570833422, 0.9234069831033777, 0.914638212873507, 0.9249178020525269, 0.9023125789634328, 0.9099946625942831, 0.5013679129428655, 0.9279909832471503, 0.9086744334467294, 0.9042845165995071, 0.8759961611005254, 0.8118574303394037, 0.9287056265139757, 0.9114817123356023, 0.8755570159270348, 0.8906765486841388, 0.9183490540606289, 0.9070632579740738, 0.8702994499389186, 0.9136415089735772, 0.87090259139595, 0.9154372333214837, 0.9270838595127021, 0.9242175016937825, 0.9247333627599282]}, {\"categories\": [\"0\", \"1\", \"2\", \"3\", \"4\", \"5\", \"6\", \"7\", \"8\", \"9\", \"10\", \"11\", \"12\", \"13\", \"14\", \"15\", \"16\", \"17\", \"18\", \"19\", \"20\", \"21\", \"22\", \"23\", \"24\", \"25\", \"26\", \"27\", \"28\", \"29\", \"30\", \"31\", \"32\", \"33\", \"34\", \"35\", \"36\", \"37\", \"38\"], \"mode\": \"lines\", \"name\": \"AUC_macro_max\", \"stepped\": true, \"type\": \"scatter\", \"data\": [0.8903122535760106, 0.897254831827887, 0.897254831827887, 0.9231042413015847, 0.9231042413015847, 0.9231042413015847, 0.9231042413015847, 0.9231042413015847, 0.9231042413015847, 0.9231042413015847, 0.9231042413015847, 0.9231042413015847, 0.9231042413015847, 0.9231042413015847, 0.9231042413015847, 0.9234069831033777, 0.9234069831033777, 0.9249178020525269, 0.9249178020525269, 0.9249178020525269, 0.9249178020525269, 0.9279909832471503, 0.9279909832471503, 0.9279909832471503, 0.9279909832471503, 0.9279909832471503, 0.9287056265139757, 0.9287056265139757, 0.9287056265139757, 0.9287056265139757, 0.9287056265139757, 0.9287056265139757, 0.9287056265139757, 0.9287056265139757, 0.9287056265139757, 0.9287056265139757, 0.9287056265139757, 0.9287056265139757, 0.9287056265139757]}], \"precision_score_micro\": [{\"categories\": [\"0\", \"1\", \"2\", \"3\", \"4\", \"5\", \"6\", \"7\", \"8\", \"9\", \"10\", \"11\", \"12\", \"13\", \"14\", \"15\", \"16\", \"17\", \"18\", \"19\", \"20\", \"21\", \"22\", \"23\", \"24\", \"25\", \"26\", \"27\", \"28\", \"29\", \"30\", \"31\", \"32\", \"33\", \"34\", \"35\", \"36\", \"37\", \"38\"], \"mode\": \"markers\", \"name\": \"precision_score_micro\", \"stepped\": false, \"type\": \"scatter\", \"data\": [0.8058510638297873, 0.8270390070921986, 0.8227836879432624, 0.8271276595744681, 0.8312056737588651, 0.7349290780141844, 0.8437943262411347, 0.826950354609929, 0.8058510638297871, 0.8016843971631206, 0.8608156028368794, 0.8441489361702127, 0.8312056737588651, 0.788741134751773, 0.8020390070921986, 0.8142730496453903, 0.8481382978723404, 0.848049645390071, 0.839450354609929, 0.8312056737588653, 0.5826241134751773, 0.852127659574468, 0.823049645390071, 0.7933510638297873, 0.7888297872340425, 0.788918439716312, 0.8691489361702127, 0.7935283687943262, 0.7933510638297872, 0.8147163120567376, 0.6711879432624114, 0.8229609929078014, 0.8017730496453901, 0.8565602836879431, 0.8353723404255318, 0.7216312056737588, 0.8691489361702127, 0.8775709219858155, 0.8690602836879432]}, {\"categories\": [\"0\", \"1\", \"2\", \"3\", \"4\", \"5\", \"6\", \"7\", \"8\", \"9\", \"10\", \"11\", \"12\", \"13\", \"14\", \"15\", \"16\", \"17\", \"18\", \"19\", \"20\", \"21\", \"22\", \"23\", \"24\", \"25\", \"26\", \"27\", \"28\", \"29\", \"30\", \"31\", \"32\", \"33\", \"34\", \"35\", \"36\", \"37\", \"38\"], \"mode\": \"lines\", \"name\": \"precision_score_micro_max\", \"stepped\": true, \"type\": \"scatter\", \"data\": [0.8058510638297873, 0.8270390070921986, 0.8270390070921986, 0.8271276595744681, 0.8312056737588651, 0.8312056737588651, 0.8437943262411347, 0.8437943262411347, 0.8437943262411347, 0.8437943262411347, 0.8608156028368794, 0.8608156028368794, 0.8608156028368794, 0.8608156028368794, 0.8608156028368794, 0.8608156028368794, 0.8608156028368794, 0.8608156028368794, 0.8608156028368794, 0.8608156028368794, 0.8608156028368794, 0.8608156028368794, 0.8608156028368794, 0.8608156028368794, 0.8608156028368794, 0.8608156028368794, 0.8691489361702127, 0.8691489361702127, 0.8691489361702127, 0.8691489361702127, 0.8691489361702127, 0.8691489361702127, 0.8691489361702127, 0.8691489361702127, 0.8691489361702127, 0.8691489361702127, 0.8691489361702127, 0.8775709219858155, 0.8775709219858155]}], \"f1_score_micro\": [{\"categories\": [\"0\", \"1\", \"2\", \"3\", \"4\", \"5\", \"6\", \"7\", \"8\", \"9\", \"10\", \"11\", \"12\", \"13\", \"14\", \"15\", \"16\", \"17\", \"18\", \"19\", \"20\", \"21\", \"22\", \"23\", \"24\", \"25\", \"26\", \"27\", \"28\", \"29\", \"30\", \"31\", \"32\", \"33\", \"34\", \"35\", \"36\", \"37\", \"38\"], \"mode\": \"markers\", \"name\": \"f1_score_micro\", \"stepped\": false, \"type\": \"scatter\", \"data\": [0.8058510638297873, 0.8270390070921986, 0.8227836879432623, 0.8271276595744681, 0.8312056737588651, 0.7349290780141844, 0.8437943262411347, 0.826950354609929, 0.8058510638297871, 0.8016843971631206, 0.8608156028368794, 0.8441489361702127, 0.8312056737588651, 0.788741134751773, 0.8020390070921986, 0.8142730496453903, 0.8481382978723404, 0.848049645390071, 0.839450354609929, 0.8312056737588651, 0.5826241134751773, 0.852127659574468, 0.8230496453900707, 0.7933510638297873, 0.7888297872340425, 0.788918439716312, 0.8691489361702127, 0.7935283687943262, 0.7933510638297872, 0.8147163120567376, 0.6711879432624114, 0.8229609929078014, 0.8017730496453899, 0.8565602836879431, 0.8353723404255318, 0.7216312056737588, 0.8691489361702127, 0.8775709219858155, 0.8690602836879432]}, {\"categories\": [\"0\", \"1\", \"2\", \"3\", \"4\", \"5\", \"6\", \"7\", \"8\", \"9\", \"10\", \"11\", \"12\", \"13\", \"14\", \"15\", \"16\", \"17\", \"18\", \"19\", \"20\", \"21\", \"22\", \"23\", \"24\", \"25\", \"26\", \"27\", \"28\", \"29\", \"30\", \"31\", \"32\", \"33\", \"34\", \"35\", \"36\", \"37\", \"38\"], \"mode\": \"lines\", \"name\": \"f1_score_micro_max\", \"stepped\": true, \"type\": \"scatter\", \"data\": [0.8058510638297873, 0.8270390070921986, 0.8270390070921986, 0.8271276595744681, 0.8312056737588651, 0.8312056737588651, 0.8437943262411347, 0.8437943262411347, 0.8437943262411347, 0.8437943262411347, 0.8608156028368794, 0.8608156028368794, 0.8608156028368794, 0.8608156028368794, 0.8608156028368794, 0.8608156028368794, 0.8608156028368794, 0.8608156028368794, 0.8608156028368794, 0.8608156028368794, 0.8608156028368794, 0.8608156028368794, 0.8608156028368794, 0.8608156028368794, 0.8608156028368794, 0.8608156028368794, 0.8691489361702127, 0.8691489361702127, 0.8691489361702127, 0.8691489361702127, 0.8691489361702127, 0.8691489361702127, 0.8691489361702127, 0.8691489361702127, 0.8691489361702127, 0.8691489361702127, 0.8691489361702127, 0.8775709219858155, 0.8775709219858155]}], \"AUC_micro\": [{\"categories\": [\"0\", \"1\", \"2\", \"3\", \"4\", \"5\", \"6\", \"7\", \"8\", \"9\", \"10\", \"11\", \"12\", \"13\", \"14\", \"15\", \"16\", \"17\", \"18\", \"19\", \"20\", \"21\", \"22\", \"23\", \"24\", \"25\", \"26\", \"27\", \"28\", \"29\", \"30\", \"31\", \"32\", \"33\", \"34\", \"35\", \"36\", \"37\", \"38\"], \"mode\": \"markers\", \"name\": \"AUC_micro\", \"stepped\": false, \"type\": \"scatter\", \"data\": [0.8997930656154118, 0.9047465623585331, 0.9069914035385545, 0.9204200933051657, 0.9085781493637141, 0.7761252892208641, 0.9198301770534683, 0.9156504640108647, 0.9011222241084452, 0.882533771251446, 0.9241013719128816, 0.9153144019415522, 0.9072060792968161, 0.873034673494794, 0.8926722200216286, 0.9197657703963582, 0.9152089699336049, 0.9292863632362558, 0.9080955906393038, 0.9131741675469041, 0.6239303543584327, 0.9272413045118455, 0.9079079507444294, 0.8928682300311855, 0.8772479848850662, 0.8311973036441829, 0.931790638675117, 0.8945026029877772, 0.8859340419244506, 0.8982100529399929, 0.8518671643151752, 0.9034258132764952, 0.8837471235098837, 0.9190134424827724, 0.8839973231351541, 0.8575132585760274, 0.924622205246215, 0.9264217799029224, 0.9278256013907751]}, {\"categories\": [\"0\", \"1\", \"2\", \"3\", \"4\", \"5\", \"6\", \"7\", \"8\", \"9\", \"10\", \"11\", \"12\", \"13\", \"14\", \"15\", \"16\", \"17\", \"18\", \"19\", \"20\", \"21\", \"22\", \"23\", \"24\", \"25\", \"26\", \"27\", \"28\", \"29\", \"30\", \"31\", \"32\", \"33\", \"34\", \"35\", \"36\", \"37\", \"38\"], \"mode\": \"lines\", \"name\": \"AUC_micro_max\", \"stepped\": true, \"type\": \"scatter\", \"data\": [0.8997930656154118, 0.9047465623585331, 0.9069914035385545, 0.9204200933051657, 0.9204200933051657, 0.9204200933051657, 0.9204200933051657, 0.9204200933051657, 0.9204200933051657, 0.9204200933051657, 0.9241013719128816, 0.9241013719128816, 0.9241013719128816, 0.9241013719128816, 0.9241013719128816, 0.9241013719128816, 0.9241013719128816, 0.9292863632362558, 0.9292863632362558, 0.9292863632362558, 0.9292863632362558, 0.9292863632362558, 0.9292863632362558, 0.9292863632362558, 0.9292863632362558, 0.9292863632362558, 0.931790638675117, 0.931790638675117, 0.931790638675117, 0.931790638675117, 0.931790638675117, 0.931790638675117, 0.931790638675117, 0.931790638675117, 0.931790638675117, 0.931790638675117, 0.931790638675117, 0.931790638675117, 0.931790638675117]}], \"average_precision_score_weighted\": [{\"categories\": [\"0\", \"1\", \"2\", \"3\", \"4\", \"5\", \"6\", \"7\", \"8\", \"9\", \"10\", \"11\", \"12\", \"13\", \"14\", \"15\", \"16\", \"17\", \"18\", \"19\", \"20\", \"21\", \"22\", \"23\", \"24\", \"25\", \"26\", \"27\", \"28\", \"29\", \"30\", \"31\", \"32\", \"33\", \"34\", \"35\", \"36\", \"37\", \"38\"], \"mode\": \"markers\", \"name\": \"average_precision_score_weighted\", \"stepped\": false, \"type\": \"scatter\", \"data\": [0.8985505162628696, 0.9025740915644598, 0.9041456198683523, 0.9254552624884186, 0.9041600486006882, 0.7657463417356796, 0.9163392705119133, 0.9169146966077921, 0.9075162058729962, 0.887196883903784, 0.9285953965003919, 0.9238148248872771, 0.9173735021065413, 0.8739136966752113, 0.919688899414834, 0.9331955973749038, 0.9144331574479285, 0.9315833320141593, 0.9020006962513886, 0.9179097842714473, 0.610620628685759, 0.9327114739546761, 0.9072958332151352, 0.9197909299163971, 0.8901600211563776, 0.819576938186459, 0.9345848139409586, 0.9151529593892128, 0.8895234608147456, 0.9094189691832693, 0.9288371288295616, 0.9144807545102636, 0.8876728953358357, 0.922154252804923, 0.8832623944225692, 0.9200600511858898, 0.9309239413129606, 0.9302460632305319, 0.9309309497620898]}, {\"categories\": [\"0\", \"1\", \"2\", \"3\", \"4\", \"5\", \"6\", \"7\", \"8\", \"9\", \"10\", \"11\", \"12\", \"13\", \"14\", \"15\", \"16\", \"17\", \"18\", \"19\", \"20\", \"21\", \"22\", \"23\", \"24\", \"25\", \"26\", \"27\", \"28\", \"29\", \"30\", \"31\", \"32\", \"33\", \"34\", \"35\", \"36\", \"37\", \"38\"], \"mode\": \"lines\", \"name\": \"average_precision_score_weighted_max\", \"stepped\": true, \"type\": \"scatter\", \"data\": [0.8985505162628696, 0.9025740915644598, 0.9041456198683523, 0.9254552624884186, 0.9254552624884186, 0.9254552624884186, 0.9254552624884186, 0.9254552624884186, 0.9254552624884186, 0.9254552624884186, 0.9285953965003919, 0.9285953965003919, 0.9285953965003919, 0.9285953965003919, 0.9285953965003919, 0.9331955973749038, 0.9331955973749038, 0.9331955973749038, 0.9331955973749038, 0.9331955973749038, 0.9331955973749038, 0.9331955973749038, 0.9331955973749038, 0.9331955973749038, 0.9331955973749038, 0.9331955973749038, 0.9345848139409586, 0.9345848139409586, 0.9345848139409586, 0.9345848139409586, 0.9345848139409586, 0.9345848139409586, 0.9345848139409586, 0.9345848139409586, 0.9345848139409586, 0.9345848139409586, 0.9345848139409586, 0.9345848139409586, 0.9345848139409586]}], \"log_loss\": [{\"categories\": [\"0\", \"1\", \"2\", \"3\", \"4\", \"5\", \"6\", \"7\", \"8\", \"9\", \"10\", \"11\", \"12\", \"13\", \"14\", \"15\", \"16\", \"17\", \"18\", \"19\", \"20\", \"21\", \"22\", \"23\", \"24\", \"25\", \"26\", \"27\", \"28\", \"29\", \"30\", \"31\", \"32\", \"33\", \"34\", \"35\", \"36\", \"37\", \"38\"], \"mode\": \"markers\", \"name\": \"log_loss\", \"stepped\": false, \"type\": \"scatter\", \"data\": [0.4920154684148949, 0.4222809710585823, 0.39618529752748366, 0.3806761664315831, 0.39259707921936515, 0.5829234004830574, 0.35855241896075896, 0.390505335855689, 0.40215383906231833, 0.4338157299253118, 0.3600473510736121, 0.41578716003199423, 0.4110994344093547, 0.5028797683917444, 0.4652276249075021, 0.47260293509844614, 0.3878927303682443, 0.3799746071974215, 0.6465016119204111, 0.37937298100687317, 0.776667650717856, 0.41306665627516254, 0.48556613234583834, 0.45209388713112586, 0.44260948915113973, 0.5086038451737118, 0.35562612860475795, 0.4643142666336523, 0.5132422852895013, 0.562475370030277, 0.6111671469926007, 0.41975031684682174, 0.5090192774737969, 0.36638298647755996, 0.43573308511118763, 0.532598649714201, 0.4040478831937329, 0.3879113900772654, 0.36412370794530524]}, {\"categories\": [\"0\", \"1\", \"2\", \"3\", \"4\", \"5\", \"6\", \"7\", \"8\", \"9\", \"10\", \"11\", \"12\", \"13\", \"14\", \"15\", \"16\", \"17\", \"18\", \"19\", \"20\", \"21\", \"22\", \"23\", \"24\", \"25\", \"26\", \"27\", \"28\", \"29\", \"30\", \"31\", \"32\", \"33\", \"34\", \"35\", \"36\", \"37\", \"38\"], \"mode\": \"lines\", \"name\": \"log_loss_min\", \"stepped\": true, \"type\": \"scatter\", \"data\": [0.4920154684148949, 0.4222809710585823, 0.39618529752748366, 0.3806761664315831, 0.3806761664315831, 0.3806761664315831, 0.35855241896075896, 0.35855241896075896, 0.35855241896075896, 0.35855241896075896, 0.35855241896075896, 0.35855241896075896, 0.35855241896075896, 0.35855241896075896, 0.35855241896075896, 0.35855241896075896, 0.35855241896075896, 0.35855241896075896, 0.35855241896075896, 0.35855241896075896, 0.35855241896075896, 0.35855241896075896, 0.35855241896075896, 0.35855241896075896, 0.35855241896075896, 0.35855241896075896, 0.35562612860475795, 0.35562612860475795, 0.35562612860475795, 0.35562612860475795, 0.35562612860475795, 0.35562612860475795, 0.35562612860475795, 0.35562612860475795, 0.35562612860475795, 0.35562612860475795, 0.35562612860475795, 0.35562612860475795, 0.35562612860475795]}], \"precision_score_weighted\": [{\"categories\": [\"0\", \"1\", \"2\", \"3\", \"4\", \"5\", \"6\", \"7\", \"8\", \"9\", \"10\", \"11\", \"12\", \"13\", \"14\", \"15\", \"16\", \"17\", \"18\", \"19\", \"20\", \"21\", \"22\", \"23\", \"24\", \"25\", \"26\", \"27\", \"28\", \"29\", \"30\", \"31\", \"32\", \"33\", \"34\", \"35\", \"36\", \"37\", \"38\"], \"mode\": \"markers\", \"name\": \"precision_score_weighted\", \"stepped\": false, \"type\": \"scatter\", \"data\": [0.8035292685269815, 0.8312455242009763, 0.835588668215389, 0.831548519446522, 0.8386952966587709, 0.7439938910533328, 0.8504355116021622, 0.8315709113581453, 0.8175019731430222, 0.8208914019949505, 0.8684345245851816, 0.8560222029370965, 0.8427229037979318, 0.8069537661852891, 0.8184547827083266, 0.8254593570584262, 0.8590570529694268, 0.856903043967343, 0.8482676964616346, 0.833027288648573, 0.5300937891363423, 0.8655739789424516, 0.8277515087782034, 0.8121271014888036, 0.8119657922252106, 0.8005878503883823, 0.8740457513208483, 0.8067708042781531, 0.8024564299032386, 0.8256846706346082, 0.45615808592374635, 0.8257904287087456, 0.8102375003837772, 0.8585318608657504, 0.8418480030307656, 0.7926565568257863, 0.8769030306326927, 0.8876678448619938, 0.878472290034399]}, {\"categories\": [\"0\", \"1\", \"2\", \"3\", \"4\", \"5\", \"6\", \"7\", \"8\", \"9\", \"10\", \"11\", \"12\", \"13\", \"14\", \"15\", \"16\", \"17\", \"18\", \"19\", \"20\", \"21\", \"22\", \"23\", \"24\", \"25\", \"26\", \"27\", \"28\", \"29\", \"30\", \"31\", \"32\", \"33\", \"34\", \"35\", \"36\", \"37\", \"38\"], \"mode\": \"lines\", \"name\": \"precision_score_weighted_max\", \"stepped\": true, \"type\": \"scatter\", \"data\": [0.8035292685269815, 0.8312455242009763, 0.835588668215389, 0.835588668215389, 0.8386952966587709, 0.8386952966587709, 0.8504355116021622, 0.8504355116021622, 0.8504355116021622, 0.8504355116021622, 0.8684345245851816, 0.8684345245851816, 0.8684345245851816, 0.8684345245851816, 0.8684345245851816, 0.8684345245851816, 0.8684345245851816, 0.8684345245851816, 0.8684345245851816, 0.8684345245851816, 0.8684345245851816, 0.8684345245851816, 0.8684345245851816, 0.8684345245851816, 0.8684345245851816, 0.8684345245851816, 0.8740457513208483, 0.8740457513208483, 0.8740457513208483, 0.8740457513208483, 0.8740457513208483, 0.8740457513208483, 0.8740457513208483, 0.8740457513208483, 0.8740457513208483, 0.8740457513208483, 0.8769030306326927, 0.8876678448619938, 0.8876678448619938]}], \"norm_macro_recall\": [{\"categories\": [\"0\", \"1\", \"2\", \"3\", \"4\", \"5\", \"6\", \"7\", \"8\", \"9\", \"10\", \"11\", \"12\", \"13\", \"14\", \"15\", \"16\", \"17\", \"18\", \"19\", \"20\", \"21\", \"22\", \"23\", \"24\", \"25\", \"26\", \"27\", \"28\", \"29\", \"30\", \"31\", \"32\", \"33\", \"34\", \"35\", \"36\", \"37\", \"38\"], \"mode\": \"markers\", \"name\": \"norm_macro_recall\", \"stepped\": false, \"type\": \"scatter\", \"data\": [0.5185933780810441, 0.593519936518039, 0.6074719340563742, 0.57816662232222, 0.6086161610450036, 0.36029326509402415, 0.6182125506034425, 0.5919930673630864, 0.5579630221375952, 0.4999232658435694, 0.6738988251132464, 0.5929178923486325, 0.5532882627190028, 0.5080235862778556, 0.4558523652831054, 0.5106098829817995, 0.6406313071208707, 0.6472056613612592, 0.6292966240214817, 0.5486415769148217, 0.052972972972972966, 0.6963536328621716, 0.528084186945667, 0.4094702818421984, 0.4834465146799113, 0.5118519307513615, 0.6647513094761672, 0.429754958578488, 0.4981552929370766, 0.5742986279229163, 0.0, 0.5287320746523781, 0.5199199988194294, 0.6493236617145537, 0.5944355098055287, 0.18172266997693948, 0.6740977147049254, 0.6932698279946858, 0.6849014596263173]}, {\"categories\": [\"0\", \"1\", \"2\", \"3\", \"4\", \"5\", \"6\", \"7\", \"8\", \"9\", \"10\", \"11\", \"12\", \"13\", \"14\", \"15\", \"16\", \"17\", \"18\", \"19\", \"20\", \"21\", \"22\", \"23\", \"24\", \"25\", \"26\", \"27\", \"28\", \"29\", \"30\", \"31\", \"32\", \"33\", \"34\", \"35\", \"36\", \"37\", \"38\"], \"mode\": \"lines\", \"name\": \"norm_macro_recall_max\", \"stepped\": true, \"type\": \"scatter\", \"data\": [0.5185933780810441, 0.593519936518039, 0.6074719340563742, 0.6074719340563742, 0.6086161610450036, 0.6086161610450036, 0.6182125506034425, 0.6182125506034425, 0.6182125506034425, 0.6182125506034425, 0.6738988251132464, 0.6738988251132464, 0.6738988251132464, 0.6738988251132464, 0.6738988251132464, 0.6738988251132464, 0.6738988251132464, 0.6738988251132464, 0.6738988251132464, 0.6738988251132464, 0.6738988251132464, 0.6963536328621716, 0.6963536328621716, 0.6963536328621716, 0.6963536328621716, 0.6963536328621716, 0.6963536328621716, 0.6963536328621716, 0.6963536328621716, 0.6963536328621716, 0.6963536328621716, 0.6963536328621716, 0.6963536328621716, 0.6963536328621716, 0.6963536328621716, 0.6963536328621716, 0.6963536328621716, 0.6963536328621716, 0.6963536328621716]}], \"average_precision_score_micro\": [{\"categories\": [\"0\", \"1\", \"2\", \"3\", \"4\", \"5\", \"6\", \"7\", \"8\", \"9\", \"10\", \"11\", \"12\", \"13\", \"14\", \"15\", \"16\", \"17\", \"18\", \"19\", \"20\", \"21\", \"22\", \"23\", \"24\", \"25\", \"26\", \"27\", \"28\", \"29\", \"30\", \"31\", \"32\", \"33\", \"34\", \"35\", \"36\", \"37\", \"38\"], \"mode\": \"markers\", \"name\": \"average_precision_score_micro\", \"stepped\": false, \"type\": \"scatter\", \"data\": [0.901829800251873, 0.9074784453724087, 0.910878224944027, 0.9228785844650375, 0.9116154462376886, 0.7673874531785954, 0.9225195857440612, 0.9212659032600714, 0.9026808712035195, 0.8825990896484524, 0.9266001635032511, 0.9194829836171555, 0.9089232765918345, 0.8743363030538148, 0.900599020033663, 0.925605618983558, 0.9166534692134292, 0.9338186713696779, 0.9052143141098009, 0.9183849729538913, 0.6309091651035617, 0.9291689610462905, 0.9114896545686546, 0.9006444810268454, 0.881481848210637, 0.8259754623903868, 0.9356955865251313, 0.9010006832911058, 0.8887616303304989, 0.8985093445343721, 0.8695631620751865, 0.9095344724519142, 0.8861359096029107, 0.9225886041091433, 0.8796233882072002, 0.8673944865251754, 0.9275203007965782, 0.929723451664185, 0.9308859769582517]}, {\"categories\": [\"0\", \"1\", \"2\", \"3\", \"4\", \"5\", \"6\", \"7\", \"8\", \"9\", \"10\", \"11\", \"12\", \"13\", \"14\", \"15\", \"16\", \"17\", \"18\", \"19\", \"20\", \"21\", \"22\", \"23\", \"24\", \"25\", \"26\", \"27\", \"28\", \"29\", \"30\", \"31\", \"32\", \"33\", \"34\", \"35\", \"36\", \"37\", \"38\"], \"mode\": \"lines\", \"name\": \"average_precision_score_micro_max\", \"stepped\": true, \"type\": \"scatter\", \"data\": [0.901829800251873, 0.9074784453724087, 0.910878224944027, 0.9228785844650375, 0.9228785844650375, 0.9228785844650375, 0.9228785844650375, 0.9228785844650375, 0.9228785844650375, 0.9228785844650375, 0.9266001635032511, 0.9266001635032511, 0.9266001635032511, 0.9266001635032511, 0.9266001635032511, 0.9266001635032511, 0.9266001635032511, 0.9338186713696779, 0.9338186713696779, 0.9338186713696779, 0.9338186713696779, 0.9338186713696779, 0.9338186713696779, 0.9338186713696779, 0.9338186713696779, 0.9338186713696779, 0.9356955865251313, 0.9356955865251313, 0.9356955865251313, 0.9356955865251313, 0.9356955865251313, 0.9356955865251313, 0.9356955865251313, 0.9356955865251313, 0.9356955865251313, 0.9356955865251313, 0.9356955865251313, 0.9356955865251313, 0.9356955865251313]}], \"balanced_accuracy\": [{\"categories\": [\"0\", \"1\", \"2\", \"3\", \"4\", \"5\", \"6\", \"7\", \"8\", \"9\", \"10\", \"11\", \"12\", \"13\", \"14\", \"15\", \"16\", \"17\", \"18\", \"19\", \"20\", \"21\", \"22\", \"23\", \"24\", \"25\", \"26\", \"27\", \"28\", \"29\", \"30\", \"31\", \"32\", \"33\", \"34\", \"35\", \"36\", \"37\", \"38\"], \"mode\": \"markers\", \"name\": \"balanced_accuracy\", \"stepped\": false, \"type\": \"scatter\", \"data\": [0.7592966890405222, 0.7967599682590195, 0.8037359670281872, 0.7890833111611102, 0.8043080805225019, 0.680146632547012, 0.8091062753017212, 0.7959965336815431, 0.7789815110687975, 0.7499616329217847, 0.836949412556623, 0.7964589461743161, 0.7766441313595014, 0.7540117931389279, 0.7279261826415526, 0.7553049414908999, 0.8203156535604353, 0.8236028306806296, 0.8146483120107408, 0.7743207884574108, 0.4836368619385697, 0.8481768164310859, 0.7640420934728336, 0.7047351409210991, 0.7417232573399557, 0.7559259653756808, 0.8323756547380835, 0.7148774792892439, 0.7490776464685382, 0.7871493139614583, 0.5, 0.7643660373261891, 0.7599599994097147, 0.8246618308572768, 0.7972177549027644, 0.5908613349884697, 0.8370488573524627, 0.8466349139973429, 0.8424507298131587]}, {\"categories\": [\"0\", \"1\", \"2\", \"3\", \"4\", \"5\", \"6\", \"7\", \"8\", \"9\", \"10\", \"11\", \"12\", \"13\", \"14\", \"15\", \"16\", \"17\", \"18\", \"19\", \"20\", \"21\", \"22\", \"23\", \"24\", \"25\", \"26\", \"27\", \"28\", \"29\", \"30\", \"31\", \"32\", \"33\", \"34\", \"35\", \"36\", \"37\", \"38\"], \"mode\": \"lines\", \"name\": \"balanced_accuracy_max\", \"stepped\": true, \"type\": \"scatter\", \"data\": [0.7592966890405222, 0.7967599682590195, 0.8037359670281872, 0.8037359670281872, 0.8043080805225019, 0.8043080805225019, 0.8091062753017212, 0.8091062753017212, 0.8091062753017212, 0.8091062753017212, 0.836949412556623, 0.836949412556623, 0.836949412556623, 0.836949412556623, 0.836949412556623, 0.836949412556623, 0.836949412556623, 0.836949412556623, 0.836949412556623, 0.836949412556623, 0.836949412556623, 0.8481768164310859, 0.8481768164310859, 0.8481768164310859, 0.8481768164310859, 0.8481768164310859, 0.8481768164310859, 0.8481768164310859, 0.8481768164310859, 0.8481768164310859, 0.8481768164310859, 0.8481768164310859, 0.8481768164310859, 0.8481768164310859, 0.8481768164310859, 0.8481768164310859, 0.8481768164310859, 0.8481768164310859, 0.8481768164310859]}], \"precision_score_macro\": [{\"categories\": [\"0\", \"1\", \"2\", \"3\", \"4\", \"5\", \"6\", \"7\", \"8\", \"9\", \"10\", \"11\", \"12\", \"13\", \"14\", \"15\", \"16\", \"17\", \"18\", \"19\", \"20\", \"21\", \"22\", \"23\", \"24\", \"25\", \"26\", \"27\", \"28\", \"29\", \"30\", \"31\", \"32\", \"33\", \"34\", \"35\", \"36\", \"37\", \"38\"], \"mode\": \"markers\", \"name\": \"precision_score_macro\", \"stepped\": false, \"type\": \"scatter\", \"data\": [0.7780296208363471, 0.804810606060606, 0.8033606915959857, 0.812440176311144, 0.8056136010905831, 0.7094979336547172, 0.8299684988587936, 0.8017743367743367, 0.7841340076287897, 0.8004500579829527, 0.8540009772362713, 0.8484803484803486, 0.8347451094819516, 0.7698636743373586, 0.8164660752882833, 0.8199775480367585, 0.8395600890337732, 0.8330274409686174, 0.8175159307870304, 0.8180417816814876, 0.4599979548663759, 0.8296036469923938, 0.8167375735719389, 0.8153021603021602, 0.785499320641051, 0.7645196347769877, 0.8618566930616266, 0.8001201722254354, 0.7756227265050795, 0.7884317113728878, 0.3355939716312057, 0.8111056279032285, 0.7835410994234524, 0.8410564075166537, 0.8195478968255736, 0.8170745466879774, 0.8649242966890025, 0.8762987012987011, 0.8609211376858434]}, {\"categories\": [\"0\", \"1\", \"2\", \"3\", \"4\", \"5\", \"6\", \"7\", \"8\", \"9\", \"10\", \"11\", \"12\", \"13\", \"14\", \"15\", \"16\", \"17\", \"18\", \"19\", \"20\", \"21\", \"22\", \"23\", \"24\", \"25\", \"26\", \"27\", \"28\", \"29\", \"30\", \"31\", \"32\", \"33\", \"34\", \"35\", \"36\", \"37\", \"38\"], \"mode\": \"lines\", \"name\": \"precision_score_macro_max\", \"stepped\": true, \"type\": \"scatter\", \"data\": [0.7780296208363471, 0.804810606060606, 0.804810606060606, 0.812440176311144, 0.812440176311144, 0.812440176311144, 0.8299684988587936, 0.8299684988587936, 0.8299684988587936, 0.8299684988587936, 0.8540009772362713, 0.8540009772362713, 0.8540009772362713, 0.8540009772362713, 0.8540009772362713, 0.8540009772362713, 0.8540009772362713, 0.8540009772362713, 0.8540009772362713, 0.8540009772362713, 0.8540009772362713, 0.8540009772362713, 0.8540009772362713, 0.8540009772362713, 0.8540009772362713, 0.8540009772362713, 0.8618566930616266, 0.8618566930616266, 0.8618566930616266, 0.8618566930616266, 0.8618566930616266, 0.8618566930616266, 0.8618566930616266, 0.8618566930616266, 0.8618566930616266, 0.8618566930616266, 0.8649242966890025, 0.8762987012987011, 0.8762987012987011]}], \"weighted_accuracy\": [{\"categories\": [\"0\", \"1\", \"2\", \"3\", \"4\", \"5\", \"6\", \"7\", \"8\", \"9\", \"10\", \"11\", \"12\", \"13\", \"14\", \"15\", \"16\", \"17\", \"18\", \"19\", \"20\", \"21\", \"22\", \"23\", \"24\", \"25\", \"26\", \"27\", \"28\", \"29\", \"30\", \"31\", \"32\", \"33\", \"34\", \"35\", \"36\", \"37\", \"38\"], \"mode\": \"markers\", \"name\": \"weighted_accuracy\", \"stepped\": false, \"type\": \"scatter\", \"data\": [0.8361573527484131, 0.8476744189245986, 0.836675615738814, 0.8548885452750403, 0.8479242600338562, 0.7760755908259102, 0.8659652996364171, 0.8469123441198061, 0.827841440202463, 0.8398890031379785, 0.8795457078407999, 0.8786659194719386, 0.869735717428281, 0.81457344151176, 0.8562304392002058, 0.8557467964221688, 0.8688957191313376, 0.8665202394799809, 0.8558313553696502, 0.8692264295871615, 0.6540369216770703, 0.8559591198609612, 0.8639159306961579, 0.8545637269894237, 0.8250424554166701, 0.8143937237932695, 0.8951611707608158, 0.849794932556175, 0.827045688373002, 0.8310412719327864, 0.7908355182821742, 0.8630286937381049, 0.8333086467432412, 0.8783342553923654, 0.8612926005126832, 0.8145923286238631, 0.893200859249184, 0.9007038530490068, 0.888922634499788]}, {\"categories\": [\"0\", \"1\", \"2\", \"3\", \"4\", \"5\", \"6\", \"7\", \"8\", \"9\", \"10\", \"11\", \"12\", \"13\", \"14\", \"15\", \"16\", \"17\", \"18\", \"19\", \"20\", \"21\", \"22\", \"23\", \"24\", \"25\", \"26\", \"27\", \"28\", \"29\", \"30\", \"31\", \"32\", \"33\", \"34\", \"35\", \"36\", \"37\", \"38\"], \"mode\": \"lines\", \"name\": \"weighted_accuracy_max\", \"stepped\": true, \"type\": \"scatter\", \"data\": [0.8361573527484131, 0.8476744189245986, 0.8476744189245986, 0.8548885452750403, 0.8548885452750403, 0.8548885452750403, 0.8659652996364171, 0.8659652996364171, 0.8659652996364171, 0.8659652996364171, 0.8795457078407999, 0.8795457078407999, 0.8795457078407999, 0.8795457078407999, 0.8795457078407999, 0.8795457078407999, 0.8795457078407999, 0.8795457078407999, 0.8795457078407999, 0.8795457078407999, 0.8795457078407999, 0.8795457078407999, 0.8795457078407999, 0.8795457078407999, 0.8795457078407999, 0.8795457078407999, 0.8951611707608158, 0.8951611707608158, 0.8951611707608158, 0.8951611707608158, 0.8951611707608158, 0.8951611707608158, 0.8951611707608158, 0.8951611707608158, 0.8951611707608158, 0.8951611707608158, 0.8951611707608158, 0.9007038530490068, 0.9007038530490068]}], \"accuracy\": [{\"categories\": [\"0\", \"1\", \"2\", \"3\", \"4\", \"5\", \"6\", \"7\", \"8\", \"9\", \"10\", \"11\", \"12\", \"13\", \"14\", \"15\", \"16\", \"17\", \"18\", \"19\", \"20\", \"21\", \"22\", \"23\", \"24\", \"25\", \"26\", \"27\", \"28\", \"29\", \"30\", \"31\", \"32\", \"33\", \"34\", \"35\", \"36\", \"37\", \"38\"], \"mode\": \"markers\", \"name\": \"accuracy\", \"stepped\": false, \"type\": \"scatter\", \"data\": [0.8058510638297873, 0.8270390070921986, 0.8227836879432624, 0.8271276595744681, 0.8312056737588651, 0.7349290780141844, 0.8437943262411347, 0.826950354609929, 0.8058510638297871, 0.8016843971631206, 0.8608156028368794, 0.8441489361702127, 0.8312056737588651, 0.788741134751773, 0.8020390070921986, 0.8142730496453903, 0.8481382978723404, 0.848049645390071, 0.839450354609929, 0.8312056737588653, 0.5826241134751773, 0.852127659574468, 0.823049645390071, 0.7933510638297873, 0.7888297872340425, 0.788918439716312, 0.8691489361702127, 0.7935283687943262, 0.7933510638297872, 0.8147163120567376, 0.6711879432624114, 0.8229609929078014, 0.8017730496453901, 0.8565602836879431, 0.8353723404255318, 0.7216312056737588, 0.8691489361702127, 0.8775709219858155, 0.8690602836879432]}, {\"categories\": [\"0\", \"1\", \"2\", \"3\", \"4\", \"5\", \"6\", \"7\", \"8\", \"9\", \"10\", \"11\", \"12\", \"13\", \"14\", \"15\", \"16\", \"17\", \"18\", \"19\", \"20\", \"21\", \"22\", \"23\", \"24\", \"25\", \"26\", \"27\", \"28\", \"29\", \"30\", \"31\", \"32\", \"33\", \"34\", \"35\", \"36\", \"37\", \"38\"], \"mode\": \"lines\", \"name\": \"accuracy_max\", \"stepped\": true, \"type\": \"scatter\", \"data\": [0.8058510638297873, 0.8270390070921986, 0.8270390070921986, 0.8271276595744681, 0.8312056737588651, 0.8312056737588651, 0.8437943262411347, 0.8437943262411347, 0.8437943262411347, 0.8437943262411347, 0.8608156028368794, 0.8608156028368794, 0.8608156028368794, 0.8608156028368794, 0.8608156028368794, 0.8608156028368794, 0.8608156028368794, 0.8608156028368794, 0.8608156028368794, 0.8608156028368794, 0.8608156028368794, 0.8608156028368794, 0.8608156028368794, 0.8608156028368794, 0.8608156028368794, 0.8608156028368794, 0.8691489361702127, 0.8691489361702127, 0.8691489361702127, 0.8691489361702127, 0.8691489361702127, 0.8691489361702127, 0.8691489361702127, 0.8691489361702127, 0.8691489361702127, 0.8691489361702127, 0.8691489361702127, 0.8775709219858155, 0.8775709219858155]}], \"recall_score_macro\": [{\"categories\": [\"0\", \"1\", \"2\", \"3\", \"4\", \"5\", \"6\", \"7\", \"8\", \"9\", \"10\", \"11\", \"12\", \"13\", \"14\", \"15\", \"16\", \"17\", \"18\", \"19\", \"20\", \"21\", \"22\", \"23\", \"24\", \"25\", \"26\", \"27\", \"28\", \"29\", \"30\", \"31\", \"32\", \"33\", \"34\", \"35\", \"36\", \"37\", \"38\"], \"mode\": \"markers\", \"name\": \"recall_score_macro\", \"stepped\": false, \"type\": \"scatter\", \"data\": [0.7592966890405222, 0.7967599682590195, 0.8037359670281872, 0.7890833111611102, 0.8043080805225019, 0.680146632547012, 0.8091062753017212, 0.7959965336815431, 0.7789815110687975, 0.7499616329217847, 0.836949412556623, 0.7964589461743161, 0.7766441313595014, 0.7540117931389279, 0.7279261826415526, 0.7553049414908999, 0.8203156535604353, 0.8236028306806296, 0.8146483120107408, 0.7743207884574108, 0.4836368619385697, 0.8481768164310859, 0.7640420934728336, 0.7047351409210991, 0.7417232573399557, 0.7559259653756808, 0.8323756547380835, 0.7148774792892439, 0.7490776464685382, 0.7871493139614583, 0.5, 0.7643660373261891, 0.7599599994097147, 0.8246618308572768, 0.7972177549027644, 0.5908613349884697, 0.8370488573524627, 0.8466349139973429, 0.8424507298131587]}, {\"categories\": [\"0\", \"1\", \"2\", \"3\", \"4\", \"5\", \"6\", \"7\", \"8\", \"9\", \"10\", \"11\", \"12\", \"13\", \"14\", \"15\", \"16\", \"17\", \"18\", \"19\", \"20\", \"21\", \"22\", \"23\", \"24\", \"25\", \"26\", \"27\", \"28\", \"29\", \"30\", \"31\", \"32\", \"33\", \"34\", \"35\", \"36\", \"37\", \"38\"], \"mode\": \"lines\", \"name\": \"recall_score_macro_max\", \"stepped\": true, \"type\": \"scatter\", \"data\": [0.7592966890405222, 0.7967599682590195, 0.8037359670281872, 0.8037359670281872, 0.8043080805225019, 0.8043080805225019, 0.8091062753017212, 0.8091062753017212, 0.8091062753017212, 0.8091062753017212, 0.836949412556623, 0.836949412556623, 0.836949412556623, 0.836949412556623, 0.836949412556623, 0.836949412556623, 0.836949412556623, 0.836949412556623, 0.836949412556623, 0.836949412556623, 0.836949412556623, 0.8481768164310859, 0.8481768164310859, 0.8481768164310859, 0.8481768164310859, 0.8481768164310859, 0.8481768164310859, 0.8481768164310859, 0.8481768164310859, 0.8481768164310859, 0.8481768164310859, 0.8481768164310859, 0.8481768164310859, 0.8481768164310859, 0.8481768164310859, 0.8481768164310859, 0.8481768164310859, 0.8481768164310859, 0.8481768164310859]}], \"recall_score_micro\": [{\"categories\": [\"0\", \"1\", \"2\", \"3\", \"4\", \"5\", \"6\", \"7\", \"8\", \"9\", \"10\", \"11\", \"12\", \"13\", \"14\", \"15\", \"16\", \"17\", \"18\", \"19\", \"20\", \"21\", \"22\", \"23\", \"24\", \"25\", \"26\", \"27\", \"28\", \"29\", \"30\", \"31\", \"32\", \"33\", \"34\", \"35\", \"36\", \"37\", \"38\"], \"mode\": \"markers\", \"name\": \"recall_score_micro\", \"stepped\": false, \"type\": \"scatter\", \"data\": [0.8058510638297873, 0.8270390070921986, 0.8227836879432624, 0.8271276595744681, 0.8312056737588651, 0.7349290780141844, 0.8437943262411347, 0.826950354609929, 0.8058510638297871, 0.8016843971631206, 0.8608156028368794, 0.8441489361702127, 0.8312056737588651, 0.788741134751773, 0.8020390070921986, 0.8142730496453903, 0.8481382978723404, 0.848049645390071, 0.839450354609929, 0.8312056737588653, 0.5826241134751773, 0.852127659574468, 0.823049645390071, 0.7933510638297873, 0.7888297872340425, 0.788918439716312, 0.8691489361702127, 0.7935283687943262, 0.7933510638297872, 0.8147163120567376, 0.6711879432624114, 0.8229609929078014, 0.8017730496453901, 0.8565602836879431, 0.8353723404255318, 0.7216312056737588, 0.8691489361702127, 0.8775709219858155, 0.8690602836879432]}, {\"categories\": [\"0\", \"1\", \"2\", \"3\", \"4\", \"5\", \"6\", \"7\", \"8\", \"9\", \"10\", \"11\", \"12\", \"13\", \"14\", \"15\", \"16\", \"17\", \"18\", \"19\", \"20\", \"21\", \"22\", \"23\", \"24\", \"25\", \"26\", \"27\", \"28\", \"29\", \"30\", \"31\", \"32\", \"33\", \"34\", \"35\", \"36\", \"37\", \"38\"], \"mode\": \"lines\", \"name\": \"recall_score_micro_max\", \"stepped\": true, \"type\": \"scatter\", \"data\": [0.8058510638297873, 0.8270390070921986, 0.8270390070921986, 0.8271276595744681, 0.8312056737588651, 0.8312056737588651, 0.8437943262411347, 0.8437943262411347, 0.8437943262411347, 0.8437943262411347, 0.8608156028368794, 0.8608156028368794, 0.8608156028368794, 0.8608156028368794, 0.8608156028368794, 0.8608156028368794, 0.8608156028368794, 0.8608156028368794, 0.8608156028368794, 0.8608156028368794, 0.8608156028368794, 0.8608156028368794, 0.8608156028368794, 0.8608156028368794, 0.8608156028368794, 0.8608156028368794, 0.8691489361702127, 0.8691489361702127, 0.8691489361702127, 0.8691489361702127, 0.8691489361702127, 0.8691489361702127, 0.8691489361702127, 0.8691489361702127, 0.8691489361702127, 0.8691489361702127, 0.8691489361702127, 0.8775709219858155, 0.8775709219858155]}], \"f1_score_macro\": [{\"categories\": [\"0\", \"1\", \"2\", \"3\", \"4\", \"5\", \"6\", \"7\", \"8\", \"9\", \"10\", \"11\", \"12\", \"13\", \"14\", \"15\", \"16\", \"17\", \"18\", \"19\", \"20\", \"21\", \"22\", \"23\", \"24\", \"25\", \"26\", \"27\", \"28\", \"29\", \"30\", \"31\", \"32\", \"33\", \"34\", \"35\", \"36\", \"37\", \"38\"], \"mode\": \"markers\", \"name\": \"f1_score_macro\", \"stepped\": false, \"type\": \"scatter\", \"data\": [0.765856569294615, 0.796973865554734, 0.7951249024199843, 0.7935294258861452, 0.8005862295110389, 0.6707375451019227, 0.8120617449838342, 0.794905788268508, 0.7687137981927841, 0.7529307687487706, 0.8364557924385043, 0.8069044738267227, 0.78687925803368, 0.7502828209017467, 0.7404660428140383, 0.7674142151674846, 0.8189780339013076, 0.8203214930529933, 0.8109861653152448, 0.7874879602353896, 0.4611949862385038, 0.8324791207882744, 0.7762441605618668, 0.7211515051424983, 0.7352444780227392, 0.7497719577050416, 0.840714642156556, 0.727653249849088, 0.7483298482563188, 0.7819295347388435, 0.4004229179334665, 0.7763155782638649, 0.7604933238408537, 0.8295437904487754, 0.8001355341648356, 0.5613768729088197, 0.8419540464454466, 0.851828088497647, 0.843112177206838]}, {\"categories\": [\"0\", \"1\", \"2\", \"3\", \"4\", \"5\", \"6\", \"7\", \"8\", \"9\", \"10\", \"11\", \"12\", \"13\", \"14\", \"15\", \"16\", \"17\", \"18\", \"19\", \"20\", \"21\", \"22\", \"23\", \"24\", \"25\", \"26\", \"27\", \"28\", \"29\", \"30\", \"31\", \"32\", \"33\", \"34\", \"35\", \"36\", \"37\", \"38\"], \"mode\": \"lines\", \"name\": \"f1_score_macro_max\", \"stepped\": true, \"type\": \"scatter\", \"data\": [0.765856569294615, 0.796973865554734, 0.796973865554734, 0.796973865554734, 0.8005862295110389, 0.8005862295110389, 0.8120617449838342, 0.8120617449838342, 0.8120617449838342, 0.8120617449838342, 0.8364557924385043, 0.8364557924385043, 0.8364557924385043, 0.8364557924385043, 0.8364557924385043, 0.8364557924385043, 0.8364557924385043, 0.8364557924385043, 0.8364557924385043, 0.8364557924385043, 0.8364557924385043, 0.8364557924385043, 0.8364557924385043, 0.8364557924385043, 0.8364557924385043, 0.8364557924385043, 0.840714642156556, 0.840714642156556, 0.840714642156556, 0.840714642156556, 0.840714642156556, 0.840714642156556, 0.840714642156556, 0.840714642156556, 0.840714642156556, 0.840714642156556, 0.8419540464454466, 0.851828088497647, 0.851828088497647]}], \"f1_score_weighted\": [{\"categories\": [\"0\", \"1\", \"2\", \"3\", \"4\", \"5\", \"6\", \"7\", \"8\", \"9\", \"10\", \"11\", \"12\", \"13\", \"14\", \"15\", \"16\", \"17\", \"18\", \"19\", \"20\", \"21\", \"22\", \"23\", \"24\", \"25\", \"26\", \"27\", \"28\", \"29\", \"30\", \"31\", \"32\", \"33\", \"34\", \"35\", \"36\", \"37\", \"38\"], \"mode\": \"markers\", \"name\": \"f1_score_weighted\", \"stepped\": false, \"type\": \"scatter\", \"data\": [0.8022932200333578, 0.8257049385613691, 0.822306251764745, 0.8230208566807671, 0.8309245774971638, 0.7180653410114516, 0.8403733590556424, 0.8256745884469083, 0.8011577274661956, 0.7919692090038233, 0.8570275586020386, 0.8371225082198587, 0.8211317015876294, 0.7885577731779506, 0.7846039824869093, 0.8031093388553998, 0.8444440477113112, 0.8458841273978365, 0.8395237592518614, 0.8249296555914241, 0.5462820624456804, 0.8541140653804058, 0.8139387895262156, 0.7726147417516599, 0.7757224394945393, 0.7861663962065208, 0.8660230420728837, 0.7759375898541793, 0.7855965790571547, 0.8146385732021602, 0.5415300506578898, 0.8148948669459115, 0.7961165973487186, 0.8545849144973161, 0.8311036041764798, 0.6490613336634843, 0.8652731210078682, 0.8741753390530572, 0.8664555658246089]}, {\"categories\": [\"0\", \"1\", \"2\", \"3\", \"4\", \"5\", \"6\", \"7\", \"8\", \"9\", \"10\", \"11\", \"12\", \"13\", \"14\", \"15\", \"16\", \"17\", \"18\", \"19\", \"20\", \"21\", \"22\", \"23\", \"24\", \"25\", \"26\", \"27\", \"28\", \"29\", \"30\", \"31\", \"32\", \"33\", \"34\", \"35\", \"36\", \"37\", \"38\"], \"mode\": \"lines\", \"name\": \"f1_score_weighted_max\", \"stepped\": true, \"type\": \"scatter\", \"data\": [0.8022932200333578, 0.8257049385613691, 0.8257049385613691, 0.8257049385613691, 0.8309245774971638, 0.8309245774971638, 0.8403733590556424, 0.8403733590556424, 0.8403733590556424, 0.8403733590556424, 0.8570275586020386, 0.8570275586020386, 0.8570275586020386, 0.8570275586020386, 0.8570275586020386, 0.8570275586020386, 0.8570275586020386, 0.8570275586020386, 0.8570275586020386, 0.8570275586020386, 0.8570275586020386, 0.8570275586020386, 0.8570275586020386, 0.8570275586020386, 0.8570275586020386, 0.8570275586020386, 0.8660230420728837, 0.8660230420728837, 0.8660230420728837, 0.8660230420728837, 0.8660230420728837, 0.8660230420728837, 0.8660230420728837, 0.8660230420728837, 0.8660230420728837, 0.8660230420728837, 0.8660230420728837, 0.8741753390530572, 0.8741753390530572]}], \"recall_score_weighted\": [{\"categories\": [\"0\", \"1\", \"2\", \"3\", \"4\", \"5\", \"6\", \"7\", \"8\", \"9\", \"10\", \"11\", \"12\", \"13\", \"14\", \"15\", \"16\", \"17\", \"18\", \"19\", \"20\", \"21\", \"22\", \"23\", \"24\", \"25\", \"26\", \"27\", \"28\", \"29\", \"30\", \"31\", \"32\", \"33\", \"34\", \"35\", \"36\", \"37\", \"38\"], \"mode\": \"markers\", \"name\": \"recall_score_weighted\", \"stepped\": false, \"type\": \"scatter\", \"data\": [0.8058510638297873, 0.8270390070921986, 0.8227836879432624, 0.8271276595744681, 0.8312056737588651, 0.7349290780141844, 0.8437943262411347, 0.826950354609929, 0.8058510638297871, 0.8016843971631206, 0.8608156028368794, 0.8441489361702127, 0.8312056737588651, 0.788741134751773, 0.8020390070921986, 0.8142730496453903, 0.8481382978723404, 0.848049645390071, 0.839450354609929, 0.8312056737588653, 0.5826241134751773, 0.852127659574468, 0.823049645390071, 0.7933510638297873, 0.7888297872340425, 0.788918439716312, 0.8691489361702127, 0.7935283687943262, 0.7933510638297872, 0.8147163120567376, 0.6711879432624114, 0.8229609929078014, 0.8017730496453901, 0.8565602836879431, 0.8353723404255318, 0.7216312056737588, 0.8691489361702127, 0.8775709219858155, 0.8690602836879432]}, {\"categories\": [\"0\", \"1\", \"2\", \"3\", \"4\", \"5\", \"6\", \"7\", \"8\", \"9\", \"10\", \"11\", \"12\", \"13\", \"14\", \"15\", \"16\", \"17\", \"18\", \"19\", \"20\", \"21\", \"22\", \"23\", \"24\", \"25\", \"26\", \"27\", \"28\", \"29\", \"30\", \"31\", \"32\", \"33\", \"34\", \"35\", \"36\", \"37\", \"38\"], \"mode\": \"lines\", \"name\": \"recall_score_weighted_max\", \"stepped\": true, \"type\": \"scatter\", \"data\": [0.8058510638297873, 0.8270390070921986, 0.8270390070921986, 0.8271276595744681, 0.8312056737588651, 0.8312056737588651, 0.8437943262411347, 0.8437943262411347, 0.8437943262411347, 0.8437943262411347, 0.8608156028368794, 0.8608156028368794, 0.8608156028368794, 0.8608156028368794, 0.8608156028368794, 0.8608156028368794, 0.8608156028368794, 0.8608156028368794, 0.8608156028368794, 0.8608156028368794, 0.8608156028368794, 0.8608156028368794, 0.8608156028368794, 0.8608156028368794, 0.8608156028368794, 0.8608156028368794, 0.8691489361702127, 0.8691489361702127, 0.8691489361702127, 0.8691489361702127, 0.8691489361702127, 0.8691489361702127, 0.8691489361702127, 0.8691489361702127, 0.8691489361702127, 0.8691489361702127, 0.8691489361702127, 0.8775709219858155, 0.8775709219858155]}], \"matthews_correlation\": [{\"categories\": [\"0\", \"1\", \"2\", \"3\", \"4\", \"5\", \"6\", \"7\", \"8\", \"9\", \"10\", \"11\", \"12\", \"13\", \"14\", \"15\", \"16\", \"17\", \"18\", \"19\", \"20\", \"21\", \"22\", \"23\", \"24\", \"25\", \"26\", \"27\", \"28\", \"29\", \"30\", \"31\", \"32\", \"33\", \"34\", \"35\", \"36\", \"37\", \"38\"], \"mode\": \"markers\", \"name\": \"matthews_correlation\", \"stepped\": false, \"type\": \"scatter\", \"data\": [0.5368921601012663, 0.6010852052780435, 0.6055921429972779, 0.6003014678573353, 0.6095746089901221, 0.38412744849131863, 0.6381699002055901, 0.5973766072449216, 0.560544036821369, 0.5447339206845389, 0.689258705095497, 0.6410651288819775, 0.6067191194656798, 0.5213450410416155, 0.5351767111772937, 0.5699647016854403, 0.6575897203644996, 0.655136579690047, 0.6314392869336657, 0.5905416386740532, -0.052939853587205175, 0.6765138526103359, 0.5774414556282574, 0.5073740971115193, 0.518836581312119, 0.5185886730876623, 0.693098622761772, 0.5066865165441387, 0.5220319680167093, 0.5753956779898787, 0.0, 0.5729866837465855, 0.5414827621198486, 0.6652769591371716, 0.6153550209513726, 0.3232715524506996, 0.7001637130798842, 0.7210590410476911, 0.7017403446201689]}, {\"categories\": [\"0\", \"1\", \"2\", \"3\", \"4\", \"5\", \"6\", \"7\", \"8\", \"9\", \"10\", \"11\", \"12\", \"13\", \"14\", \"15\", \"16\", \"17\", \"18\", \"19\", \"20\", \"21\", \"22\", \"23\", \"24\", \"25\", \"26\", \"27\", \"28\", \"29\", \"30\", \"31\", \"32\", \"33\", \"34\", \"35\", \"36\", \"37\", \"38\"], \"mode\": \"lines\", \"name\": \"matthews_correlation_max\", \"stepped\": true, \"type\": \"scatter\", \"data\": [0.5368921601012663, 0.6010852052780435, 0.6055921429972779, 0.6055921429972779, 0.6095746089901221, 0.6095746089901221, 0.6381699002055901, 0.6381699002055901, 0.6381699002055901, 0.6381699002055901, 0.689258705095497, 0.689258705095497, 0.689258705095497, 0.689258705095497, 0.689258705095497, 0.689258705095497, 0.689258705095497, 0.689258705095497, 0.689258705095497, 0.689258705095497, 0.689258705095497, 0.689258705095497, 0.689258705095497, 0.689258705095497, 0.689258705095497, 0.689258705095497, 0.693098622761772, 0.693098622761772, 0.693098622761772, 0.693098622761772, 0.693098622761772, 0.693098622761772, 0.693098622761772, 0.693098622761772, 0.693098622761772, 0.693098622761772, 0.7001637130798842, 0.7210590410476911, 0.7210590410476911]}]}, \"metricName\": null, \"primaryMetricName\": \"accuracy\", \"showLegend\": false}, \"run_metrics\": [{\"name\": \"f1_score_macro\", \"run_id\": \"AutoML_b380ebbc-566a-4f05-a475-fce2f40b8161\", \"categories\": [0], \"series\": [{\"data\": [0.851828088497647]}]}, {\"name\": \"recall_score_micro\", \"run_id\": \"AutoML_b380ebbc-566a-4f05-a475-fce2f40b8161\", \"categories\": [0], \"series\": [{\"data\": [0.8775709219858155]}]}, {\"name\": \"recall_score_macro\", \"run_id\": \"AutoML_b380ebbc-566a-4f05-a475-fce2f40b8161\", \"categories\": [0], \"series\": [{\"data\": [0.8466349139973429]}]}, {\"name\": \"recall_score_weighted\", \"run_id\": \"AutoML_b380ebbc-566a-4f05-a475-fce2f40b8161\", \"categories\": [0], \"series\": [{\"data\": [0.8775709219858155]}]}, {\"name\": \"accuracy\", \"run_id\": \"AutoML_b380ebbc-566a-4f05-a475-fce2f40b8161\", \"categories\": [0], \"series\": [{\"data\": [0.8775709219858155]}]}, {\"name\": \"f1_score_weighted\", \"run_id\": \"AutoML_b380ebbc-566a-4f05-a475-fce2f40b8161\", \"categories\": [0], \"series\": [{\"data\": [0.8741753390530572]}]}, {\"name\": \"matthews_correlation\", \"run_id\": \"AutoML_b380ebbc-566a-4f05-a475-fce2f40b8161\", \"categories\": [0], \"series\": [{\"data\": [0.7210590410476911]}]}, {\"name\": \"average_precision_score_weighted\", \"run_id\": \"AutoML_b380ebbc-566a-4f05-a475-fce2f40b8161\", \"categories\": [0], \"series\": [{\"data\": [0.9302460632305319]}]}, {\"name\": \"weighted_accuracy\", \"run_id\": \"AutoML_b380ebbc-566a-4f05-a475-fce2f40b8161\", \"categories\": [0], \"series\": [{\"data\": [0.9007038530490068]}]}, {\"name\": \"AUC_weighted\", \"run_id\": \"AutoML_b380ebbc-566a-4f05-a475-fce2f40b8161\", \"categories\": [0], \"series\": [{\"data\": [0.9242175016937827]}]}, {\"name\": \"log_loss\", \"run_id\": \"AutoML_b380ebbc-566a-4f05-a475-fce2f40b8161\", \"categories\": [0], \"series\": [{\"data\": [0.3879113900772654]}]}, {\"name\": \"precision_score_weighted\", \"run_id\": \"AutoML_b380ebbc-566a-4f05-a475-fce2f40b8161\", \"categories\": [0], \"series\": [{\"data\": [0.8876678448619938]}]}, {\"name\": \"precision_score_micro\", \"run_id\": \"AutoML_b380ebbc-566a-4f05-a475-fce2f40b8161\", \"categories\": [0], \"series\": [{\"data\": [0.8775709219858155]}]}, {\"name\": \"norm_macro_recall\", \"run_id\": \"AutoML_b380ebbc-566a-4f05-a475-fce2f40b8161\", \"categories\": [0], \"series\": [{\"data\": [0.6932698279946858]}]}, {\"name\": \"average_precision_score_micro\", \"run_id\": \"AutoML_b380ebbc-566a-4f05-a475-fce2f40b8161\", \"categories\": [0], \"series\": [{\"data\": [0.929723451664185]}]}, {\"name\": \"precision_score_macro\", \"run_id\": \"AutoML_b380ebbc-566a-4f05-a475-fce2f40b8161\", \"categories\": [0], \"series\": [{\"data\": [0.8762987012987011]}]}, {\"name\": \"average_precision_score_macro\", \"run_id\": \"AutoML_b380ebbc-566a-4f05-a475-fce2f40b8161\", \"categories\": [0], \"series\": [{\"data\": [0.9057201574614242]}]}, {\"name\": \"f1_score_micro\", \"run_id\": \"AutoML_b380ebbc-566a-4f05-a475-fce2f40b8161\", \"categories\": [0], \"series\": [{\"data\": [0.8775709219858155]}]}, {\"name\": \"AUC_macro\", \"run_id\": \"AutoML_b380ebbc-566a-4f05-a475-fce2f40b8161\", \"categories\": [0], \"series\": [{\"data\": [0.9242175016937825]}]}, {\"name\": \"balanced_accuracy\", \"run_id\": \"AutoML_b380ebbc-566a-4f05-a475-fce2f40b8161\", \"categories\": [0], \"series\": [{\"data\": [0.8466349139973429]}]}, {\"name\": \"AUC_micro\", \"run_id\": \"AutoML_b380ebbc-566a-4f05-a475-fce2f40b8161\", \"categories\": [0], \"series\": [{\"data\": [0.9264217799029224]}]}], \"run_logs\": \"\\nRun is completed.\", \"graph\": {}, \"widget_settings\": {\"childWidgetDisplay\": \"popup\", \"send_telemetry\": false, \"log_level\": \"INFO\", \"sdk_version\": \"1.20.0\"}, \"loading\": false}"
     },
     "metadata": {},
     "output_type": "display_data"
    }
   ],
   "source": [
    "RunDetails(run).show()"
   ]
  },
  {
   "cell_type": "markdown",
   "metadata": {},
   "source": [
    "### Wydobycie najlepszego modelu"
   ]
  },
  {
   "cell_type": "code",
   "execution_count": 12,
   "metadata": {},
   "outputs": [],
   "source": [
    "best_run, best_model = run.get_output()"
   ]
  },
  {
   "cell_type": "markdown",
   "metadata": {},
   "source": [
    "### Predykcja dla jednego pacjenta ze zbioru testowego\n",
    "***\n",
    "Poniżej przedstawiono dane pomiarowe jednego z pacjentów (63 lata, anemia itd.)\n",
    "Nasz model wskazał, że pacjent nie umrze, co również potwierdzają dane zawarte w zbiorze testowym."
   ]
  },
  {
   "cell_type": "code",
   "execution_count": 22,
   "metadata": {},
   "outputs": [
    {
     "data": {
      "text/plain": [
       "age                            63.00\n",
       "anaemia                         1.00\n",
       "creatinine_phosphokinase      514.00\n",
       "diabetes                        1.00\n",
       "ejection_fraction              25.00\n",
       "high_blood_pressure             1.00\n",
       "platelets                  254000.00\n",
       "serum_creatinine                1.30\n",
       "serum_sodium                  134.00\n",
       "sex                             1.00\n",
       "smoking                         0.00\n",
       "time                           83.00\n",
       "Name: 96, dtype: float64"
      ]
     },
     "execution_count": 22,
     "metadata": {},
     "output_type": "execute_result"
    }
   ],
   "source": [
    "patient = X_test.drop(\"DEATH_EVENT\", axis=\"columns\").iloc[0]\n",
    "patient"
   ]
  },
  {
   "cell_type": "code",
   "execution_count": 37,
   "metadata": {},
   "outputs": [
    {
     "data": {
      "text/plain": [
       "array([0])"
      ]
     },
     "execution_count": 37,
     "metadata": {},
     "output_type": "execute_result"
    }
   ],
   "source": [
    "pred = best_model.predict(pd.DataFrame([patient]))\n",
    "pred"
   ]
  },
  {
   "cell_type": "code",
   "execution_count": 38,
   "metadata": {},
   "outputs": [
    {
     "data": {
      "text/plain": [
       "0"
      ]
     },
     "execution_count": 38,
     "metadata": {},
     "output_type": "execute_result"
    }
   ],
   "source": [
    "X_test[\"DEATH_EVENT\"].iloc[0]"
   ]
  },
  {
   "cell_type": "markdown",
   "metadata": {},
   "source": [
    "### Predykcja na danych testowych\n",
    "***\n",
    "Przeprowadzimy teraz predykcje dla wszystkich dnaych testowych"
   ]
  },
  {
   "cell_type": "code",
   "execution_count": 39,
   "metadata": {},
   "outputs": [
    {
     "data": {
      "text/plain": [
       "array([0, 0, 1, 0, 0, 0, 1, 1, 0, 0, 1, 0, 0, 1, 0, 0, 0, 0, 0, 1, 0, 0,\n",
       "       1, 0, 0, 0, 0, 0, 0, 0, 0, 1, 1, 0, 1, 0, 0, 1, 0, 0, 0, 0, 0, 1,\n",
       "       0, 0, 0, 0, 1, 0, 0, 0, 0, 0, 0, 1, 0, 0, 1, 0])"
      ]
     },
     "execution_count": 39,
     "metadata": {},
     "output_type": "execute_result"
    }
   ],
   "source": [
    "preds = best_model.predict(X_test.drop(\"DEATH_EVENT\", axis=\"columns\"))\n",
    "preds"
   ]
  },
  {
   "cell_type": "markdown",
   "metadata": {},
   "source": [
    "### Wypiszemy macierz pewności\n",
    "***\n",
    "- 41 pacjentów, zostało poprawnie zdiagnozowanych, że nie umrą\n",
    "- 13 pacjentow zostało poprawnie zdiagnozowanych, że umrą\n",
    "- 2 pacjentów zostało zdiagnozowanych, że nie umrą a umarli\n",
    "- 4 pacjentów zostało zdiagnonowanych, że umrą a nie umarli"
   ]
  },
  {
   "cell_type": "code",
   "execution_count": 14,
   "metadata": {},
   "outputs": [
    {
     "data": {
      "text/plain": [
       "array([[41,  2],\n",
       "       [ 4, 13]])"
      ]
     },
     "execution_count": 14,
     "metadata": {},
     "output_type": "execute_result"
    }
   ],
   "source": [
    "cm = confusion_matrix(X_test[\"DEATH_EVENT\"], preds)\n",
    "cm"
   ]
  },
  {
   "cell_type": "markdown",
   "metadata": {},
   "source": [
    "### Wyznaczenie dokładności modelu\n",
    "***\n",
    "Wyznaczona dokładność wyniosła 90% (dla zbioru testowego, który nie brał udziału w procesie uczenia)"
   ]
  },
  {
   "cell_type": "code",
   "execution_count": 16,
   "metadata": {},
   "outputs": [
    {
     "name": "stdout",
     "output_type": "stream",
     "text": [
      "0.9\n"
     ]
    }
   ],
   "source": [
    "acc = accuracy_score(X_test[\"DEATH_EVENT\"], preds)\n",
    "print(acc)"
   ]
  },
  {
   "cell_type": "markdown",
   "metadata": {},
   "source": [
    "### Wnioski\n",
    "1. Udało się uzyskać bardzo dobrą jakość klasyfikacji\n",
    "2. W celu wykorzystania modelu w rzeczywistym przypadku, należałoby zgromadzić więcej danych\n",
    "3. Stworzenie modeli i ich trening wymagał jedynie minimalnej wiedzy z zakresu Data Science, a stworzony model cechuje się ogromną złożonością. \n",
    "4. Uzyskanie takiej dokładności ręcznie byłoby niezwykle trudne.\n",
    "5. Korzystanie z Machine Learning Studio okazało się bardzo łatwe i przyjemne!"
   ]
  }
 ],
 "metadata": {
  "kernel_info": {
   "name": "python3-azureml"
  },
  "kernelspec": {
   "display_name": "Python 3.6 - AzureML",
   "language": "python",
   "name": "python3-azureml"
  },
  "language_info": {
   "codemirror_mode": {
    "name": "ipython",
    "version": 3
   },
   "file_extension": ".py",
   "mimetype": "text/x-python",
   "name": "python",
   "nbconvert_exporter": "python",
   "pygments_lexer": "ipython3",
   "version": "3.6.9"
  },
  "nteract": {
   "version": "nteract-front-end@1.0.0"
  }
 },
 "nbformat": 4,
 "nbformat_minor": 2
}
